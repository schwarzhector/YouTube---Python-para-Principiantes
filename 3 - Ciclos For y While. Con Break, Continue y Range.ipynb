{
  "nbformat": 4,
  "nbformat_minor": 0,
  "metadata": {
    "colab": {
      "name": "Aprendiendo Python - 3raParte.ipynb",
      "provenance": []
    },
    "kernelspec": {
      "name": "python3",
      "display_name": "Python 3"
    },
    "language_info": {
      "name": "python"
    }
  },
  "cells": [
    {
      "cell_type": "markdown",
      "source": [
        "Código utilizado en el video:<br>\n",
        "https://youtu.be/ifbxtkvBPJU"
      ],
      "metadata": {
        "id": "JNGRC8k4S6KQ"
      }
    },
    {
      "cell_type": "markdown",
      "source": [
        "# 1- Ciclo For"
      ],
      "metadata": {
        "id": "aP5zioPqVXRv"
      }
    },
    {
      "cell_type": "code",
      "execution_count": null,
      "metadata": {
        "colab": {
          "base_uri": "https://localhost:8080/"
        },
        "id": "cH76Fc8yNQBP",
        "outputId": "a6851b44-c16c-4803-d414-135ea7f421d8"
      },
      "outputs": [
        {
          "output_type": "stream",
          "name": "stdout",
          "text": [
            "torta\n",
            "helado\n",
            "panqueque\n"
          ]
        }
      ],
      "source": [
        "postres = ['torta','helado','panqueque']\n",
        "for postre in postres:\n",
        "  print(postre)"
      ]
    },
    {
      "cell_type": "code",
      "source": [
        "for letra in 'postres':\n",
        "  print(letra)"
      ],
      "metadata": {
        "colab": {
          "base_uri": "https://localhost:8080/"
        },
        "id": "lJ02vMYYTsnk",
        "outputId": "513f5866-f75f-4c65-f6e9-b560a6ba28cc"
      },
      "execution_count": null,
      "outputs": [
        {
          "output_type": "stream",
          "name": "stdout",
          "text": [
            "p\n",
            "o\n",
            "s\n",
            "t\n",
            "r\n",
            "e\n",
            "s\n"
          ]
        }
      ]
    },
    {
      "cell_type": "code",
      "source": [
        "ciudades = ('Amsterdam','Londres','Rio de Janeiro')\n",
        "for ciudad in ciudades:\n",
        "  print(ciudad)"
      ],
      "metadata": {
        "colab": {
          "base_uri": "https://localhost:8080/"
        },
        "id": "Y1iFArDUT4Nt",
        "outputId": "784caae2-ff6b-4f8a-a58d-60c22aca68c8"
      },
      "execution_count": null,
      "outputs": [
        {
          "output_type": "stream",
          "name": "stdout",
          "text": [
            "Amsterdam\n",
            "Londres\n",
            "Rio de Janeiro\n"
          ]
        }
      ]
    },
    {
      "cell_type": "markdown",
      "source": [
        "## Sentencia Break"
      ],
      "metadata": {
        "id": "M46s_-AkUHLd"
      }
    },
    {
      "cell_type": "code",
      "source": [
        "postres = ['torta','helado','panqueque','Tiramisú','Bizcocho', 'Mousse']\n",
        "for postre in postres:\n",
        "  if postre == 'Tiramisú':\n",
        "    break\n",
        "  print(postre)\n",
        "  "
      ],
      "metadata": {
        "colab": {
          "base_uri": "https://localhost:8080/"
        },
        "id": "4ry-dawaUCte",
        "outputId": "e790bcb3-7248-4fb5-879f-6311e1f01773"
      },
      "execution_count": null,
      "outputs": [
        {
          "output_type": "stream",
          "name": "stdout",
          "text": [
            "torta\n",
            "helado\n",
            "panqueque\n"
          ]
        }
      ]
    },
    {
      "cell_type": "markdown",
      "source": [
        "## Sentencia Continue"
      ],
      "metadata": {
        "id": "GJhk8rQUULa9"
      }
    },
    {
      "cell_type": "code",
      "source": [
        "postres = ['torta','helado','panqueque','Tiramisú','Bizcocho']\n",
        "for postre in postres:\n",
        "  if postre == 'Tiramisú':\n",
        "    continue\n",
        "  print(postre)"
      ],
      "metadata": {
        "colab": {
          "base_uri": "https://localhost:8080/"
        },
        "id": "Mvivdy2fUGTF",
        "outputId": "c7ff7780-f49e-420f-cad3-192f3dc3c9c9"
      },
      "execution_count": null,
      "outputs": [
        {
          "output_type": "stream",
          "name": "stdout",
          "text": [
            "torta\n",
            "helado\n",
            "panqueque\n",
            "Bizcocho\n"
          ]
        }
      ]
    },
    {
      "cell_type": "markdown",
      "source": [
        "## Range()"
      ],
      "metadata": {
        "id": "TInddJ7yUPOV"
      }
    },
    {
      "cell_type": "code",
      "source": [
        "for veces in range(7):\n",
        "  print(veces)"
      ],
      "metadata": {
        "colab": {
          "base_uri": "https://localhost:8080/"
        },
        "id": "jrgwMyE7UQ3c",
        "outputId": "4bfa85f8-9f84-45b4-c623-93cd08897797"
      },
      "execution_count": null,
      "outputs": [
        {
          "output_type": "stream",
          "name": "stdout",
          "text": [
            "0\n",
            "1\n",
            "2\n",
            "3\n",
            "4\n",
            "5\n",
            "6\n"
          ]
        }
      ]
    },
    {
      "cell_type": "markdown",
      "source": [
        "# 2- Ciclo While"
      ],
      "metadata": {
        "id": "RvAz2nqdal5Y"
      }
    },
    {
      "cell_type": "code",
      "source": [
        "variable = 1\n",
        "while variable < 8:\n",
        "  print(variable)\n",
        "  variable += 1"
      ],
      "metadata": {
        "colab": {
          "base_uri": "https://localhost:8080/"
        },
        "id": "KGM0zoQ5aVhv",
        "outputId": "7bcbee90-94c9-4797-d05c-45ca85c32f38"
      },
      "execution_count": null,
      "outputs": [
        {
          "output_type": "stream",
          "name": "stdout",
          "text": [
            "1\n",
            "2\n",
            "3\n",
            "4\n",
            "5\n",
            "6\n",
            "7\n"
          ]
        }
      ]
    },
    {
      "cell_type": "code",
      "source": [
        "factorial_a_calcular = 6\n",
        "factorial = 1\n",
        "while factorial_a_calcular > 0:\n",
        "    factorial = factorial * factorial_a_calcular\n",
        "    factorial_a_calcular = factorial_a_calcular - 1\n",
        "print(factorial)"
      ],
      "metadata": {
        "colab": {
          "base_uri": "https://localhost:8080/"
        },
        "id": "wekuIBx0a4YE",
        "outputId": "757945b9-6e5f-4be2-f707-59ed5ae757c9"
      },
      "execution_count": null,
      "outputs": [
        {
          "output_type": "stream",
          "name": "stdout",
          "text": [
            "720\n"
          ]
        }
      ]
    },
    {
      "cell_type": "code",
      "source": [
        ""
      ],
      "metadata": {
        "id": "JB-8NnRjbj41"
      },
      "execution_count": null,
      "outputs": []
    }
  ]
}