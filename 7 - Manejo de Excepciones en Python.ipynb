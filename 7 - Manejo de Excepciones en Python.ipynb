{
  "nbformat": 4,
  "nbformat_minor": 0,
  "metadata": {
    "colab": {
      "name": "Aprendiendo Python - 7maParte.ipynb",
      "provenance": []
    },
    "kernelspec": {
      "name": "python3",
      "display_name": "Python 3"
    },
    "language_info": {
      "name": "python"
    }
  },
  "cells": [
    {
      "cell_type": "markdown",
      "source": [
        "Código utilizado en el video:<br>\n",
        "https://youtu.be/ihsCxX0FGtc"
      ],
      "metadata": {
        "id": "JwHIbKSVToWI"
      }
    },
    {
      "cell_type": "markdown",
      "source": [
        "# Manejo de Excepciones en Python"
      ],
      "metadata": {
        "id": "AOHYYve13zSV"
      }
    },
    {
      "cell_type": "code",
      "source": [
        "def sumar(valor1, valor2):\n",
        "  suma = valor1 + valor2\n",
        "  print(\"El valor que se obtiene al sumar los números es: \"+str(suma))"
      ],
      "metadata": {
        "id": "8R-JUMiX7OVv"
      },
      "execution_count": null,
      "outputs": []
    },
    {
      "cell_type": "code",
      "source": [
        "sumar(1,3)\n",
        "sumar(6,10)\n",
        "sumar(13,29)\n",
        "sumar(10,1)\n",
        "sumar(3,5997)"
      ],
      "metadata": {
        "colab": {
          "base_uri": "https://localhost:8080/"
        },
        "id": "1WWh9e5M4fuT",
        "outputId": "5129812e-25c8-4d3a-8d24-0e913da38664"
      },
      "execution_count": null,
      "outputs": [
        {
          "output_type": "stream",
          "name": "stdout",
          "text": [
            "El valor que se obtiene al sumar los números es: 4\n",
            "El valor que se obtiene al sumar los números es: 16\n",
            "El valor que se obtiene al sumar los números es: 42\n",
            "El valor que se obtiene al sumar los números es: 11\n",
            "El valor que se obtiene al sumar los números es: 6000\n"
          ]
        }
      ]
    },
    {
      "cell_type": "code",
      "source": [
        "sumar(1,3)\n",
        "sumar(5,\"No soy de aquí, ni soy de allá\")\n",
        "sumar(6,10)\n",
        "sumar(13,29)\n",
        "sumar(\"Hola\", 5)\n",
        "sumar(10,1)\n",
        "sumar(3,5997)"
      ],
      "metadata": {
        "id": "CpkQlyQv4khN",
        "colab": {
          "base_uri": "https://localhost:8080/",
          "height": 354
        },
        "outputId": "d803210f-185f-4987-9584-c286756fcf94"
      },
      "execution_count": null,
      "outputs": [
        {
          "output_type": "stream",
          "name": "stdout",
          "text": [
            "El valor que se obtiene al sumar los números es: 4\n"
          ]
        },
        {
          "output_type": "error",
          "ename": "TypeError",
          "evalue": "ignored",
          "traceback": [
            "\u001b[0;31m---------------------------------------------------------------------------\u001b[0m",
            "\u001b[0;31mTypeError\u001b[0m                                 Traceback (most recent call last)",
            "\u001b[0;32m<ipython-input-3-117557c9384a>\u001b[0m in \u001b[0;36m<module>\u001b[0;34m()\u001b[0m\n\u001b[1;32m      1\u001b[0m \u001b[0msumar\u001b[0m\u001b[0;34m(\u001b[0m\u001b[0;36m1\u001b[0m\u001b[0;34m,\u001b[0m\u001b[0;36m3\u001b[0m\u001b[0;34m)\u001b[0m\u001b[0;34m\u001b[0m\u001b[0;34m\u001b[0m\u001b[0m\n\u001b[0;32m----> 2\u001b[0;31m \u001b[0msumar\u001b[0m\u001b[0;34m(\u001b[0m\u001b[0;36m5\u001b[0m\u001b[0;34m,\u001b[0m\u001b[0;34m\"No soy de aquí, ni soy de allá\"\u001b[0m\u001b[0;34m)\u001b[0m\u001b[0;34m\u001b[0m\u001b[0;34m\u001b[0m\u001b[0m\n\u001b[0m\u001b[1;32m      3\u001b[0m \u001b[0msumar\u001b[0m\u001b[0;34m(\u001b[0m\u001b[0;36m6\u001b[0m\u001b[0;34m,\u001b[0m\u001b[0;36m10\u001b[0m\u001b[0;34m)\u001b[0m\u001b[0;34m\u001b[0m\u001b[0;34m\u001b[0m\u001b[0m\n\u001b[1;32m      4\u001b[0m \u001b[0msumar\u001b[0m\u001b[0;34m(\u001b[0m\u001b[0;36m13\u001b[0m\u001b[0;34m,\u001b[0m\u001b[0;36m29\u001b[0m\u001b[0;34m)\u001b[0m\u001b[0;34m\u001b[0m\u001b[0;34m\u001b[0m\u001b[0m\n\u001b[1;32m      5\u001b[0m \u001b[0msumar\u001b[0m\u001b[0;34m(\u001b[0m\u001b[0;34m\"Hola\"\u001b[0m\u001b[0;34m,\u001b[0m \u001b[0;36m5\u001b[0m\u001b[0;34m)\u001b[0m\u001b[0;34m\u001b[0m\u001b[0;34m\u001b[0m\u001b[0m\n",
            "\u001b[0;32m<ipython-input-1-6d06609ab228>\u001b[0m in \u001b[0;36msumar\u001b[0;34m(valor1, valor2)\u001b[0m\n\u001b[1;32m      1\u001b[0m \u001b[0;32mdef\u001b[0m \u001b[0msumar\u001b[0m\u001b[0;34m(\u001b[0m\u001b[0mvalor1\u001b[0m\u001b[0;34m,\u001b[0m \u001b[0mvalor2\u001b[0m\u001b[0;34m)\u001b[0m\u001b[0;34m:\u001b[0m\u001b[0;34m\u001b[0m\u001b[0;34m\u001b[0m\u001b[0m\n\u001b[0;32m----> 2\u001b[0;31m   \u001b[0msuma\u001b[0m \u001b[0;34m=\u001b[0m \u001b[0mvalor1\u001b[0m \u001b[0;34m+\u001b[0m \u001b[0mvalor2\u001b[0m\u001b[0;34m\u001b[0m\u001b[0;34m\u001b[0m\u001b[0m\n\u001b[0m\u001b[1;32m      3\u001b[0m   \u001b[0mprint\u001b[0m\u001b[0;34m(\u001b[0m\u001b[0;34m\"El valor que se obtiene al sumar los números es: \"\u001b[0m\u001b[0;34m+\u001b[0m\u001b[0mstr\u001b[0m\u001b[0;34m(\u001b[0m\u001b[0msuma\u001b[0m\u001b[0;34m)\u001b[0m\u001b[0;34m)\u001b[0m\u001b[0;34m\u001b[0m\u001b[0;34m\u001b[0m\u001b[0m\n",
            "\u001b[0;31mTypeError\u001b[0m: unsupported operand type(s) for +: 'int' and 'str'"
          ]
        }
      ]
    },
    {
      "cell_type": "markdown",
      "source": [
        "# try + except"
      ],
      "metadata": {
        "id": "PMniXYaZ6V9N"
      }
    },
    {
      "cell_type": "code",
      "source": [
        "def sumar(valor1, valor2):\n",
        "  try:\n",
        "    suma = valor1 + valor2\n",
        "    print(\"El valor que se obtiene al sumar los números es: \"+str(suma))\n",
        "  except:\n",
        "    print(\"<-- ALERTA: Ocurrió una excepción -->\")\n",
        "    print(\"<-- Esta función solamente recibe números como argumentos -->\")\n",
        "    "
      ],
      "metadata": {
        "id": "ZTwe_rdu6FJN"
      },
      "execution_count": null,
      "outputs": []
    },
    {
      "cell_type": "code",
      "source": [
        "sumar(1,3)\n",
        "sumar(5,\"No soy de aquí, ni soy de allá\")\n",
        "sumar(6,10)\n",
        "sumar(13,29)\n",
        "sumar(\"Hola\", 5)\n",
        "sumar(10,1)\n",
        "sumar(3,5997)"
      ],
      "metadata": {
        "colab": {
          "base_uri": "https://localhost:8080/"
        },
        "id": "9S1SYWMg6qmL",
        "outputId": "39e9505c-1aa7-44e7-f307-8cb4b7594793"
      },
      "execution_count": null,
      "outputs": [
        {
          "output_type": "stream",
          "name": "stdout",
          "text": [
            "El valor que se obtiene al sumar los números es: 4\n",
            "<-- ALERTA: Ocurrió una excepción -->\n",
            "<-- Esta función solamente recibe números como argumentos -->\n",
            "El valor que se obtiene al sumar los números es: 16\n",
            "El valor que se obtiene al sumar los números es: 42\n",
            "<-- ALERTA: Ocurrió una excepción -->\n",
            "<-- Esta función solamente recibe números como argumentos -->\n",
            "El valor que se obtiene al sumar los números es: 11\n",
            "El valor que se obtiene al sumar los números es: 6000\n"
          ]
        }
      ]
    },
    {
      "cell_type": "markdown",
      "source": [
        "# try + except + finally"
      ],
      "metadata": {
        "id": "ugbmasYk8iw3"
      }
    },
    {
      "cell_type": "code",
      "source": [
        "def sumar(valor1, valor2):\n",
        "  try:\n",
        "    suma = valor1 + valor2\n",
        "    print(\"El valor que se obtiene al sumar los números es: \"+str(suma))\n",
        "  except:\n",
        "    print(\"<-- ALERTA: Ocurrió una excepción -->\")\n",
        "    print(\"<-- Esta función solamente recibe números como argumentos -->\")\n",
        "  finally:\n",
        "    print(\"Gracias por suscribirse a este canal!!!\\n\")"
      ],
      "metadata": {
        "id": "2VajwO1N8kQu"
      },
      "execution_count": null,
      "outputs": []
    },
    {
      "cell_type": "code",
      "source": [
        "sumar(1,3)\n",
        "sumar(5,\"No soy de aquí, ni soy de allá\")\n",
        "sumar(6,10)\n",
        "sumar(13,29)\n",
        "sumar(\"Hola\", 5)\n",
        "sumar(10,1)\n",
        "sumar(3,5997)"
      ],
      "metadata": {
        "colab": {
          "base_uri": "https://localhost:8080/"
        },
        "id": "EEmxO_p2FLga",
        "outputId": "cd9a1419-13fc-43d9-8ca8-727f625e0907"
      },
      "execution_count": null,
      "outputs": [
        {
          "output_type": "stream",
          "name": "stdout",
          "text": [
            "El valor que se obtiene al sumar los números es: 4\n",
            "Gracias por suscribirse a este canal!!!\n",
            "\n",
            "<-- ALERTA: Ocurrió una excepción -->\n",
            "<-- Esta función solamente recibe números como argumentos -->\n",
            "Gracias por suscribirse a este canal!!!\n",
            "\n",
            "El valor que se obtiene al sumar los números es: 16\n",
            "Gracias por suscribirse a este canal!!!\n",
            "\n",
            "El valor que se obtiene al sumar los números es: 42\n",
            "Gracias por suscribirse a este canal!!!\n",
            "\n",
            "<-- ALERTA: Ocurrió una excepción -->\n",
            "<-- Esta función solamente recibe números como argumentos -->\n",
            "Gracias por suscribirse a este canal!!!\n",
            "\n",
            "El valor que se obtiene al sumar los números es: 11\n",
            "Gracias por suscribirse a este canal!!!\n",
            "\n",
            "El valor que se obtiene al sumar los números es: 6000\n",
            "Gracias por suscribirse a este canal!!!\n",
            "\n"
          ]
        }
      ]
    }
  ]
}