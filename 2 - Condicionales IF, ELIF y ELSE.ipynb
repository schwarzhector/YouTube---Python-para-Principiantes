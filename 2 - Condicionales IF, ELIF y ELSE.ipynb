{
  "nbformat": 4,
  "nbformat_minor": 0,
  "metadata": {
    "colab": {
      "name": "Aprendiendo Python - 2daParte.ipynb",
      "provenance": []
    },
    "kernelspec": {
      "name": "python3",
      "display_name": "Python 3"
    },
    "language_info": {
      "name": "python"
    }
  },
  "cells": [
    {
      "cell_type": "markdown",
      "source": [
        "Código utilizado en el video:<br>\n",
        "https://youtu.be/HjD9Psv3zL4"
      ],
      "metadata": {
        "id": "k1QmqC9KSvFI"
      }
    },
    {
      "cell_type": "markdown",
      "source": [
        "# Condicionales\n",
        "### 1- IF\n",
        "<p><b>Operadores: ==, !=, <, <=, >, >="
      ],
      "metadata": {
        "id": "ZM6cN-KhHgCV"
      }
    },
    {
      "cell_type": "code",
      "execution_count": null,
      "metadata": {
        "colab": {
          "base_uri": "https://localhost:8080/"
        },
        "id": "09KiY88FGthB",
        "outputId": "2f9e164f-70f6-4f6d-9de1-57c8cd82b0c5"
      },
      "outputs": [
        {
          "output_type": "stream",
          "name": "stdout",
          "text": [
            "Las variables no tienen el mismo valor\n",
            "La primer variable es mayor a la segunda\n"
          ]
        }
      ],
      "source": [
        "variable1 = 180\n",
        "variable2 = 90\n",
        "\n",
        "if variable1 == variable2:\n",
        "  print(\"Ambas variables tienen el mismo valor\")\n",
        "\n",
        "if variable1 != variable2:\n",
        "  print(\"Las variables no tienen el mismo valor\")\n",
        "\n",
        "if variable1 < variable2:\n",
        "  print(\"La primer variable es menor a la segunda\")\n",
        "\n",
        "if variable1 > variable2:\n",
        "  print(\"La primer variable es mayor a la segunda\")"
      ]
    },
    {
      "cell_type": "code",
      "source": [
        "variable3 = 35\n",
        "variable4 = 10\n",
        "\n",
        "if variable3 == variable4:\n",
        "  print(\"Ambas variables tienen el mismo valor\")"
      ],
      "metadata": {
        "id": "S2ebklrLQFZx"
      },
      "execution_count": null,
      "outputs": []
    },
    {
      "cell_type": "markdown",
      "source": [
        "### 2- ELIF"
      ],
      "metadata": {
        "id": "bXCJjBNmJZYF"
      }
    },
    {
      "cell_type": "code",
      "source": [
        "variable1 = 80\n",
        "variable2 = 90\n",
        "\n",
        "if variable1 == variable2:\n",
        "  print(\"Ambas variables tienen el mismo valor\")\n",
        "elif variable1 != variable2:\n",
        "  print(\"Las variables no tienen el mismo valor\")\n",
        "elif variable1 < variable2:\n",
        "  print(\"La primer variable es menor a la segunda\")\n",
        "elif variable1 > variable2:\n",
        "  print(\"La primer variable es mayor a la segunda\")"
      ],
      "metadata": {
        "colab": {
          "base_uri": "https://localhost:8080/"
        },
        "id": "wyG4CS0pJjut",
        "outputId": "1efb8523-a8a8-4ffc-dc5b-954afa218f12"
      },
      "execution_count": null,
      "outputs": [
        {
          "output_type": "stream",
          "name": "stdout",
          "text": [
            "Las variables no tienen el mismo valor\n"
          ]
        }
      ]
    },
    {
      "cell_type": "markdown",
      "source": [
        "### 3- ELSE"
      ],
      "metadata": {
        "id": "7vrccsy-JeI9"
      }
    },
    {
      "cell_type": "code",
      "source": [
        "variable1 = 190\n",
        "variable2 = 190\n",
        "if variable1 < variable2:\n",
        "  print(\"La primer variable es menor a la segunda\")\n",
        "elif variable1 > variable2:\n",
        "  print(\"La primer variable es mayor a la segunda\")\n",
        "else:\n",
        "  print(\"Ambas variables tienen el mismo valor\")\n",
        "\n"
      ],
      "metadata": {
        "colab": {
          "base_uri": "https://localhost:8080/"
        },
        "id": "wkf1OmqqJg6y",
        "outputId": "09e969c1-8a81-4fa0-ea2e-f6ef4fd7eaf2"
      },
      "execution_count": null,
      "outputs": [
        {
          "output_type": "stream",
          "name": "stdout",
          "text": [
            "Ambas variables tienen el mismo valor\n"
          ]
        }
      ]
    },
    {
      "cell_type": "markdown",
      "source": [
        "### 3- AND"
      ],
      "metadata": {
        "id": "D4zzRUAISRbN"
      }
    },
    {
      "cell_type": "code",
      "source": [
        "variable1 = 90\n",
        "variable2 = 200\n",
        "if variable1 < variable2 and variable1 < 100:\n",
        "  print(\"La primer variable es menor a la segunda, y también es menor a cien\")\n",
        "elif variable1 < variable2 and variable1 > 100:\n",
        "  print(\"La primer variable es menor a la segunda, y también es mayor a cien\")"
      ],
      "metadata": {
        "colab": {
          "base_uri": "https://localhost:8080/"
        },
        "id": "ztZdfk70Q4mR",
        "outputId": "8af15ec9-24ce-4e1c-bbfb-9dcbae755034"
      },
      "execution_count": null,
      "outputs": [
        {
          "output_type": "stream",
          "name": "stdout",
          "text": [
            "La primer variable es menor a la segunda, y también es mayor a cien\n"
          ]
        }
      ]
    },
    {
      "cell_type": "markdown",
      "source": [
        "### 4- OR"
      ],
      "metadata": {
        "id": "Ha0GxXPpS5za"
      }
    },
    {
      "cell_type": "code",
      "source": [
        "variable5 = 79\n",
        "variable6 = 200\n",
        "if variable5 >= 80 or variable6 >= 80:\n",
        "  print(\"Por lo menos una de las variables vale más de 80\")\n"
      ],
      "metadata": {
        "colab": {
          "base_uri": "https://localhost:8080/"
        },
        "id": "CtVaqWWkSjmK",
        "outputId": "d250d43d-cdcb-4870-e24e-6e6da9ec05bd"
      },
      "execution_count": null,
      "outputs": [
        {
          "output_type": "stream",
          "name": "stdout",
          "text": [
            "Por lo menos una de las variables vale más de 80\n"
          ]
        }
      ]
    },
    {
      "cell_type": "code",
      "source": [
        ""
      ],
      "metadata": {
        "id": "jtbBrWLbTbHv"
      },
      "execution_count": null,
      "outputs": []
    }
  ]
}