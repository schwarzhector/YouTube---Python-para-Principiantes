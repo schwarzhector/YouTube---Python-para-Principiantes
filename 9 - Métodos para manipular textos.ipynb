{
  "nbformat": 4,
  "nbformat_minor": 0,
  "metadata": {
    "colab": {
      "provenance": []
    },
    "kernelspec": {
      "name": "python3",
      "display_name": "Python 3"
    },
    "language_info": {
      "name": "python"
    }
  },
  "cells": [
    {
      "cell_type": "markdown",
      "source": [
        "Código utilizado en el video:<br>\n",
        "https://youtu.be/APVpXJqU4YE"
      ],
      "metadata": {
        "id": "CGdSS3tmIHW-"
      }
    },
    {
      "cell_type": "code",
      "execution_count": 1,
      "metadata": {
        "colab": {
          "base_uri": "https://localhost:8080/",
          "height": 87
        },
        "id": "4NwsDx_bwiRR",
        "outputId": "8d4bdea5-0624-4f84-a7f5-3efe082704e6"
      },
      "outputs": [
        {
          "output_type": "execute_result",
          "data": {
            "text/plain": [
              "'Me gusta el sol, Alicia y las palomas, el buen cigarro y la guitarra española, saltar paredes y abrir las ventanas, y cuando llora una mujer (de alegría). Me gusta el vino tanto como las flores, y los conejos pero no los tractores, y el pan casero y la voz de Dolores y el mar mojándome los pies, no soy de aqui ni soy de allá, no tengo edad mi porvenir, y ser felíz es mi color de identidad'"
            ],
            "application/vnd.google.colaboratory.intrinsic+json": {
              "type": "string"
            }
          },
          "metadata": {},
          "execution_count": 1
        }
      ],
      "source": [
        "texto = \"Me gusta el sol, Alicia y las palomas, el buen cigarro y la guitarra española, saltar paredes y abrir las ventanas, y cuando llora una mujer (de alegría). Me gusta el vino tanto como las flores, y los conejos pero no los tractores, y el pan casero y la voz de Dolores y el mar mojándome los pies, no soy de aqui ni soy de allá, no tengo edad mi porvenir, y ser felíz es mi color de identidad\"\n",
        "texto"
      ]
    },
    {
      "cell_type": "markdown",
      "source": [
        "# .lower()"
      ],
      "metadata": {
        "id": "dVzElQ1FxRm_"
      }
    },
    {
      "cell_type": "code",
      "source": [
        "texto.lower()"
      ],
      "metadata": {
        "colab": {
          "base_uri": "https://localhost:8080/",
          "height": 87
        },
        "id": "bTJUinz0xW3m",
        "outputId": "7969c0d5-25e2-4e74-d43d-23489a31b391"
      },
      "execution_count": 2,
      "outputs": [
        {
          "output_type": "execute_result",
          "data": {
            "text/plain": [
              "'me gusta el sol, alicia y las palomas, el buen cigarro y la guitarra española, saltar paredes y abrir las ventanas, y cuando llora una mujer (de alegría). me gusta el vino tanto como las flores, y los conejos pero no los tractores, y el pan casero y la voz de dolores y el mar mojándome los pies, no soy de aqui ni soy de allá, no tengo edad mi porvenir, y ser felíz es mi color de identidad'"
            ],
            "application/vnd.google.colaboratory.intrinsic+json": {
              "type": "string"
            }
          },
          "metadata": {},
          "execution_count": 2
        }
      ]
    },
    {
      "cell_type": "markdown",
      "source": [
        "# .upper()"
      ],
      "metadata": {
        "id": "zx_p0UnPxX23"
      }
    },
    {
      "cell_type": "code",
      "source": [
        "texto.upper()"
      ],
      "metadata": {
        "colab": {
          "base_uri": "https://localhost:8080/",
          "height": 87
        },
        "id": "zQF9sX85xarJ",
        "outputId": "dbd46732-908e-4381-afff-867bfe07809f"
      },
      "execution_count": 3,
      "outputs": [
        {
          "output_type": "execute_result",
          "data": {
            "text/plain": [
              "'ME GUSTA EL SOL, ALICIA Y LAS PALOMAS, EL BUEN CIGARRO Y LA GUITARRA ESPAÑOLA, SALTAR PAREDES Y ABRIR LAS VENTANAS, Y CUANDO LLORA UNA MUJER (DE ALEGRÍA). ME GUSTA EL VINO TANTO COMO LAS FLORES, Y LOS CONEJOS PERO NO LOS TRACTORES, Y EL PAN CASERO Y LA VOZ DE DOLORES Y EL MAR MOJÁNDOME LOS PIES, NO SOY DE AQUI NI SOY DE ALLÁ, NO TENGO EDAD MI PORVENIR, Y SER FELÍZ ES MI COLOR DE IDENTIDAD'"
            ],
            "application/vnd.google.colaboratory.intrinsic+json": {
              "type": "string"
            }
          },
          "metadata": {},
          "execution_count": 3
        }
      ]
    },
    {
      "cell_type": "markdown",
      "source": [
        "# .capitalize()"
      ],
      "metadata": {
        "id": "8kvGT9mTxbSH"
      }
    },
    {
      "cell_type": "code",
      "source": [
        "texto.capitalize()"
      ],
      "metadata": {
        "colab": {
          "base_uri": "https://localhost:8080/",
          "height": 87
        },
        "id": "WL8Ob4hQxdkh",
        "outputId": "83003be9-3e79-43ac-a3be-550e4b9d5cdf"
      },
      "execution_count": 4,
      "outputs": [
        {
          "output_type": "execute_result",
          "data": {
            "text/plain": [
              "'Me gusta el sol, alicia y las palomas, el buen cigarro y la guitarra española, saltar paredes y abrir las ventanas, y cuando llora una mujer (de alegría). me gusta el vino tanto como las flores, y los conejos pero no los tractores, y el pan casero y la voz de dolores y el mar mojándome los pies, no soy de aqui ni soy de allá, no tengo edad mi porvenir, y ser felíz es mi color de identidad'"
            ],
            "application/vnd.google.colaboratory.intrinsic+json": {
              "type": "string"
            }
          },
          "metadata": {},
          "execution_count": 4
        }
      ]
    },
    {
      "cell_type": "markdown",
      "source": [
        "# .split()"
      ],
      "metadata": {
        "id": "nNpFDzB-xPuH"
      }
    },
    {
      "cell_type": "code",
      "source": [
        "lista = texto.split(',')\n",
        "for item in lista:\n",
        "  print(item)"
      ],
      "metadata": {
        "colab": {
          "base_uri": "https://localhost:8080/"
        },
        "id": "1KjZOoXsw1AP",
        "outputId": "17b8f21f-8e04-4a8b-a061-53ee1c56b5d0"
      },
      "execution_count": 5,
      "outputs": [
        {
          "output_type": "stream",
          "name": "stdout",
          "text": [
            "Me gusta el sol\n",
            " Alicia y las palomas\n",
            " el buen cigarro y la guitarra española\n",
            " saltar paredes y abrir las ventanas\n",
            " y cuando llora una mujer (de alegría). Me gusta el vino tanto como las flores\n",
            " y los conejos pero no los tractores\n",
            " y el pan casero y la voz de Dolores y el mar mojándome los pies\n",
            " no soy de aqui ni soy de allá\n",
            " no tengo edad mi porvenir\n",
            " y ser felíz es mi color de identidad\n"
          ]
        }
      ]
    },
    {
      "cell_type": "code",
      "source": [
        "lista = texto.split('y')\n",
        "for item in lista:\n",
        "  print(item)"
      ],
      "metadata": {
        "colab": {
          "base_uri": "https://localhost:8080/"
        },
        "id": "ro4GDevH2RJg",
        "outputId": "350d63f8-5c1b-41a5-9192-3455cd62b199"
      },
      "execution_count": 6,
      "outputs": [
        {
          "output_type": "stream",
          "name": "stdout",
          "text": [
            "Me gusta el sol, Alicia \n",
            " las palomas, el buen cigarro \n",
            " la guitarra española, saltar paredes \n",
            " abrir las ventanas, \n",
            " cuando llora una mujer (de alegría). Me gusta el vino tanto como las flores, \n",
            " los conejos pero no los tractores, \n",
            " el pan casero \n",
            " la voz de Dolores \n",
            " el mar mojándome los pies, no so\n",
            " de aqui ni so\n",
            " de allá, no tengo edad mi porvenir, \n",
            " ser felíz es mi color de identidad\n"
          ]
        }
      ]
    },
    {
      "cell_type": "markdown",
      "source": [
        "# .count()"
      ],
      "metadata": {
        "id": "Ue6dOWft29D_"
      }
    },
    {
      "cell_type": "code",
      "source": [
        "texto.count('el')"
      ],
      "metadata": {
        "colab": {
          "base_uri": "https://localhost:8080/"
        },
        "id": "QtcCC50l2hy-",
        "outputId": "46aff74f-632b-4570-c408-817067f4831b"
      },
      "execution_count": 7,
      "outputs": [
        {
          "output_type": "execute_result",
          "data": {
            "text/plain": [
              "6"
            ]
          },
          "metadata": {},
          "execution_count": 7
        }
      ]
    },
    {
      "cell_type": "code",
      "source": [
        "texto.count('y')"
      ],
      "metadata": {
        "colab": {
          "base_uri": "https://localhost:8080/"
        },
        "id": "ubhAIWka2zPv",
        "outputId": "7a302f0f-48c0-4055-b266-4ecdb1e83fea"
      },
      "execution_count": 8,
      "outputs": [
        {
          "output_type": "execute_result",
          "data": {
            "text/plain": [
              "11"
            ]
          },
          "metadata": {},
          "execution_count": 8
        }
      ]
    },
    {
      "cell_type": "markdown",
      "source": [
        "# .replace()"
      ],
      "metadata": {
        "id": "S9xhM3nm3RV_"
      }
    },
    {
      "cell_type": "code",
      "source": [
        "texto.replace('y','Y')"
      ],
      "metadata": {
        "colab": {
          "base_uri": "https://localhost:8080/",
          "height": 87
        },
        "id": "uR88c7n83AkH",
        "outputId": "1a4e2992-3832-41b2-f5b2-424d8e26ac83"
      },
      "execution_count": 9,
      "outputs": [
        {
          "output_type": "execute_result",
          "data": {
            "text/plain": [
              "'Me gusta el sol, Alicia Y las palomas, el buen cigarro Y la guitarra española, saltar paredes Y abrir las ventanas, Y cuando llora una mujer (de alegría). Me gusta el vino tanto como las flores, Y los conejos pero no los tractores, Y el pan casero Y la voz de Dolores Y el mar mojándome los pies, no soY de aqui ni soY de allá, no tengo edad mi porvenir, Y ser felíz es mi color de identidad'"
            ],
            "application/vnd.google.colaboratory.intrinsic+json": {
              "type": "string"
            }
          },
          "metadata": {},
          "execution_count": 9
        }
      ]
    },
    {
      "cell_type": "code",
      "source": [],
      "metadata": {
        "id": "sS6hPpWWC7sA"
      },
      "execution_count": null,
      "outputs": []
    }
  ]
}