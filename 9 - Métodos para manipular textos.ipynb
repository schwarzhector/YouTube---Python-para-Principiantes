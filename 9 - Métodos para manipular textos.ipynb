{
  "nbformat": 4,
  "nbformat_minor": 0,
  "metadata": {
    "colab": {
      "provenance": []
    },
    "kernelspec": {
      "name": "python3",
      "display_name": "Python 3"
    },
    "language_info": {
      "name": "python"
    }
  },
  "cells": [
    {
      "cell_type": "markdown",
      "source": [
        "Código utilizado en el video:<br>\n",
        "https://youtu.be/uRV2Fizbmq4"
      ],
      "metadata": {
        "id": "uKF-HZtRJgGg"
      }
    },
    {
      "cell_type": "code",
      "execution_count": 1,
      "metadata": {
        "colab": {
          "base_uri": "https://localhost:8080/",
          "height": 87
        },
        "id": "4NwsDx_bwiRR",
        "outputId": "894096fa-e8fc-4a1b-cd04-fdc02720c9e4"
      },
      "outputs": [
        {
          "output_type": "execute_result",
          "data": {
            "text/plain": [
              "'Me gusta el sol, Alicia y las palomas, el buen cigarro y la guitarra española, saltar paredes y abrir las ventanas, y cuando llora una mujer (de alegría). Me gusta el vino tanto como las flores, y los conejos pero no los tractores, y el pan casero y la voz de Dolores y el mar mojándome los pies, no soy de aqui ni soy de allá, no tengo edad mi porvenir, y ser felíz es mi color de identidad'"
            ],
            "application/vnd.google.colaboratory.intrinsic+json": {
              "type": "string"
            }
          },
          "metadata": {},
          "execution_count": 1
        }
      ],
      "source": [
        "texto = \"Me gusta el sol, Alicia y las palomas, el buen cigarro y la guitarra española, saltar paredes y abrir las ventanas, y cuando llora una mujer (de alegría). Me gusta el vino tanto como las flores, y los conejos pero no los tractores, y el pan casero y la voz de Dolores y el mar mojándome los pies, no soy de aqui ni soy de allá, no tengo edad mi porvenir, y ser felíz es mi color de identidad\"\n",
        "texto"
      ]
    },
    {
      "cell_type": "markdown",
      "source": [
        "# .lower()"
      ],
      "metadata": {
        "id": "dVzElQ1FxRm_"
      }
    },
    {
      "cell_type": "code",
      "source": [
        "texto.lower()"
      ],
      "metadata": {
        "colab": {
          "base_uri": "https://localhost:8080/",
          "height": 87
        },
        "id": "bTJUinz0xW3m",
        "outputId": "bd50c853-c8bc-4662-9169-c712d8abd64f"
      },
      "execution_count": 2,
      "outputs": [
        {
          "output_type": "execute_result",
          "data": {
            "text/plain": [
              "'me gusta el sol, alicia y las palomas, el buen cigarro y la guitarra española, saltar paredes y abrir las ventanas, y cuando llora una mujer (de alegría). me gusta el vino tanto como las flores, y los conejos pero no los tractores, y el pan casero y la voz de dolores y el mar mojándome los pies, no soy de aqui ni soy de allá, no tengo edad mi porvenir, y ser felíz es mi color de identidad'"
            ],
            "application/vnd.google.colaboratory.intrinsic+json": {
              "type": "string"
            }
          },
          "metadata": {},
          "execution_count": 2
        }
      ]
    },
    {
      "cell_type": "markdown",
      "source": [
        "# .upper()"
      ],
      "metadata": {
        "id": "zx_p0UnPxX23"
      }
    },
    {
      "cell_type": "code",
      "source": [
        "texto.upper()"
      ],
      "metadata": {
        "colab": {
          "base_uri": "https://localhost:8080/",
          "height": 87
        },
        "id": "zQF9sX85xarJ",
        "outputId": "d1ffd058-0398-4561-f21e-fdb9eb4c39fb"
      },
      "execution_count": 3,
      "outputs": [
        {
          "output_type": "execute_result",
          "data": {
            "text/plain": [
              "'ME GUSTA EL SOL, ALICIA Y LAS PALOMAS, EL BUEN CIGARRO Y LA GUITARRA ESPAÑOLA, SALTAR PAREDES Y ABRIR LAS VENTANAS, Y CUANDO LLORA UNA MUJER (DE ALEGRÍA). ME GUSTA EL VINO TANTO COMO LAS FLORES, Y LOS CONEJOS PERO NO LOS TRACTORES, Y EL PAN CASERO Y LA VOZ DE DOLORES Y EL MAR MOJÁNDOME LOS PIES, NO SOY DE AQUI NI SOY DE ALLÁ, NO TENGO EDAD MI PORVENIR, Y SER FELÍZ ES MI COLOR DE IDENTIDAD'"
            ],
            "application/vnd.google.colaboratory.intrinsic+json": {
              "type": "string"
            }
          },
          "metadata": {},
          "execution_count": 3
        }
      ]
    },
    {
      "cell_type": "markdown",
      "source": [
        "# .capitalize()"
      ],
      "metadata": {
        "id": "8kvGT9mTxbSH"
      }
    },
    {
      "cell_type": "code",
      "source": [
        "texto.capitalize()"
      ],
      "metadata": {
        "colab": {
          "base_uri": "https://localhost:8080/",
          "height": 87
        },
        "id": "WL8Ob4hQxdkh",
        "outputId": "5661cfe4-5730-44f4-d66f-546caf4ecf3e"
      },
      "execution_count": 4,
      "outputs": [
        {
          "output_type": "execute_result",
          "data": {
            "text/plain": [
              "'Me gusta el sol, alicia y las palomas, el buen cigarro y la guitarra española, saltar paredes y abrir las ventanas, y cuando llora una mujer (de alegría). me gusta el vino tanto como las flores, y los conejos pero no los tractores, y el pan casero y la voz de dolores y el mar mojándome los pies, no soy de aqui ni soy de allá, no tengo edad mi porvenir, y ser felíz es mi color de identidad'"
            ],
            "application/vnd.google.colaboratory.intrinsic+json": {
              "type": "string"
            }
          },
          "metadata": {},
          "execution_count": 4
        }
      ]
    },
    {
      "cell_type": "markdown",
      "source": [
        "# .split()"
      ],
      "metadata": {
        "id": "nNpFDzB-xPuH"
      }
    },
    {
      "cell_type": "code",
      "source": [
        "lista = texto.split(',')\n",
        "for item in lista:\n",
        "  print(item)"
      ],
      "metadata": {
        "colab": {
          "base_uri": "https://localhost:8080/"
        },
        "id": "1KjZOoXsw1AP",
        "outputId": "b65f6f90-6a24-4e77-ff86-cb61b39ecc04"
      },
      "execution_count": 5,
      "outputs": [
        {
          "output_type": "stream",
          "name": "stdout",
          "text": [
            "Me gusta el sol\n",
            " Alicia y las palomas\n",
            " el buen cigarro y la guitarra española\n",
            " saltar paredes y abrir las ventanas\n",
            " y cuando llora una mujer (de alegría). Me gusta el vino tanto como las flores\n",
            " y los conejos pero no los tractores\n",
            " y el pan casero y la voz de Dolores y el mar mojándome los pies\n",
            " no soy de aqui ni soy de allá\n",
            " no tengo edad mi porvenir\n",
            " y ser felíz es mi color de identidad\n"
          ]
        }
      ]
    },
    {
      "cell_type": "code",
      "source": [
        "lista = texto.split('y')\n",
        "for item in lista:\n",
        "  print(item)"
      ],
      "metadata": {
        "colab": {
          "base_uri": "https://localhost:8080/"
        },
        "id": "ro4GDevH2RJg",
        "outputId": "9f8a775b-99cf-4854-f97c-777b0a6cc452"
      },
      "execution_count": 6,
      "outputs": [
        {
          "output_type": "stream",
          "name": "stdout",
          "text": [
            "Me gusta el sol, Alicia \n",
            " las palomas, el buen cigarro \n",
            " la guitarra española, saltar paredes \n",
            " abrir las ventanas, \n",
            " cuando llora una mujer (de alegría). Me gusta el vino tanto como las flores, \n",
            " los conejos pero no los tractores, \n",
            " el pan casero \n",
            " la voz de Dolores \n",
            " el mar mojándome los pies, no so\n",
            " de aqui ni so\n",
            " de allá, no tengo edad mi porvenir, \n",
            " ser felíz es mi color de identidad\n"
          ]
        }
      ]
    },
    {
      "cell_type": "markdown",
      "source": [
        "# .count()"
      ],
      "metadata": {
        "id": "Ue6dOWft29D_"
      }
    },
    {
      "cell_type": "code",
      "source": [
        "texto.count('el')"
      ],
      "metadata": {
        "colab": {
          "base_uri": "https://localhost:8080/"
        },
        "id": "QtcCC50l2hy-",
        "outputId": "85bc89cd-f592-4705-9a02-f232ec49ad6d"
      },
      "execution_count": 7,
      "outputs": [
        {
          "output_type": "execute_result",
          "data": {
            "text/plain": [
              "6"
            ]
          },
          "metadata": {},
          "execution_count": 7
        }
      ]
    },
    {
      "cell_type": "code",
      "source": [
        "texto.count('y')"
      ],
      "metadata": {
        "colab": {
          "base_uri": "https://localhost:8080/"
        },
        "id": "ubhAIWka2zPv",
        "outputId": "8d1c254b-5301-4e17-bbde-c257089c4393"
      },
      "execution_count": 8,
      "outputs": [
        {
          "output_type": "execute_result",
          "data": {
            "text/plain": [
              "11"
            ]
          },
          "metadata": {},
          "execution_count": 8
        }
      ]
    },
    {
      "cell_type": "markdown",
      "source": [
        "# .replace()"
      ],
      "metadata": {
        "id": "S9xhM3nm3RV_"
      }
    },
    {
      "cell_type": "code",
      "source": [
        "texto.replace('y','Y')"
      ],
      "metadata": {
        "colab": {
          "base_uri": "https://localhost:8080/",
          "height": 87
        },
        "id": "uR88c7n83AkH",
        "outputId": "c4d6593d-159f-4acb-a061-5168f3dcc355"
      },
      "execution_count": 9,
      "outputs": [
        {
          "output_type": "execute_result",
          "data": {
            "text/plain": [
              "'Me gusta el sol, Alicia Y las palomas, el buen cigarro Y la guitarra española, saltar paredes Y abrir las ventanas, Y cuando llora una mujer (de alegría). Me gusta el vino tanto como las flores, Y los conejos pero no los tractores, Y el pan casero Y la voz de Dolores Y el mar mojándome los pies, no soY de aqui ni soY de allá, no tengo edad mi porvenir, Y ser felíz es mi color de identidad'"
            ],
            "application/vnd.google.colaboratory.intrinsic+json": {
              "type": "string"
            }
          },
          "metadata": {},
          "execution_count": 9
        }
      ]
    },
    {
      "cell_type": "code",
      "source": [],
      "metadata": {
        "id": "sS6hPpWWC7sA"
      },
      "execution_count": null,
      "outputs": []
    }
  ]
}