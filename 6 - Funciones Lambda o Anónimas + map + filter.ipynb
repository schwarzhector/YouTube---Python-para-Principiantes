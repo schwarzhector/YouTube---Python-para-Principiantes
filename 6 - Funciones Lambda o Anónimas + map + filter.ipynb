{
  "nbformat": 4,
  "nbformat_minor": 0,
  "metadata": {
    "colab": {
      "name": "Aprendiendo Python - 6taParte - Lambda.ipynb",
      "provenance": []
    },
    "kernelspec": {
      "name": "python3",
      "display_name": "Python 3"
    },
    "language_info": {
      "name": "python"
    }
  },
  "cells": [
    {
      "cell_type": "markdown",
      "source": [
        "Código utilizado en el video:<br>\n",
        "https://youtu.be/xoCwqux1dsY"
      ],
      "metadata": {
        "id": "aIqW67_aTcKq"
      }
    },
    {
      "cell_type": "markdown",
      "source": [
        "# Lambda (Funciones Anónimas)"
      ],
      "metadata": {
        "id": "eB1lu1c1Ox_M"
      }
    },
    {
      "cell_type": "markdown",
      "source": [
        "***lambda argumentos: expresión***"
      ],
      "metadata": {
        "id": "WxO_Sn4JQt6N"
      }
    },
    {
      "cell_type": "code",
      "source": [
        "def triplicar_numero(argumento):\n",
        "  return argumento*3\n",
        "\n",
        "print(triplicar_numero(1))\n",
        "print(triplicar_numero(3))\n",
        "print(triplicar_numero(5))\n",
        "print(triplicar_numero(7))"
      ],
      "metadata": {
        "colab": {
          "base_uri": "https://localhost:8080/"
        },
        "id": "tMU0YTMoSD5N",
        "outputId": "dec6368f-f13e-4c58-d503-dfe768baff37"
      },
      "execution_count": null,
      "outputs": [
        {
          "output_type": "stream",
          "name": "stdout",
          "text": [
            "3\n",
            "9\n",
            "15\n",
            "21\n"
          ]
        }
      ]
    },
    {
      "cell_type": "code",
      "source": [
        "triplicar = lambda x: x*3\n",
        "print(triplicar(1))\n",
        "print(triplicar(3))\n",
        "print(triplicar(5))\n",
        "print(triplicar(7))"
      ],
      "metadata": {
        "colab": {
          "base_uri": "https://localhost:8080/"
        },
        "id": "FW37Dxq3So_O",
        "outputId": "919f328e-82ee-46d6-89fb-21c9d9eafb20"
      },
      "execution_count": null,
      "outputs": [
        {
          "output_type": "stream",
          "name": "stdout",
          "text": [
            "3\n",
            "9\n",
            "15\n",
            "21\n"
          ]
        }
      ]
    },
    {
      "cell_type": "code",
      "source": [
        "suma = lambda a,b,c,d,e,f: a+b+c+d+e+f\n",
        "\n",
        "print(suma(1,2,3,4,5,6))\n",
        "print(suma(3,3,3,0,1,1))\n",
        "print(suma(-1,2,-3,4,-2,3))\n",
        "print(suma(7,-6,3,4,5,-3))"
      ],
      "metadata": {
        "colab": {
          "base_uri": "https://localhost:8080/"
        },
        "id": "cGa1isKgUm0f",
        "outputId": "814bdfed-c036-43e9-9487-84802efad95b"
      },
      "execution_count": null,
      "outputs": [
        {
          "output_type": "stream",
          "name": "stdout",
          "text": [
            "21\n",
            "11\n",
            "3\n",
            "10\n"
          ]
        }
      ]
    },
    {
      "cell_type": "code",
      "source": [
        "multiplo = lambda x,y: x%y == 0\n",
        "\n",
        "print(multiplo(25,5))\n",
        "print(multiplo(21,3))\n",
        "print(multiplo(14,3))\n",
        "print(multiplo(12,4))\n",
        "print(multiplo(12,5))"
      ],
      "metadata": {
        "colab": {
          "base_uri": "https://localhost:8080/"
        },
        "id": "wQ6iKBwXTc7t",
        "outputId": "af1ccdd7-002c-44d7-d109-c668470a5d38"
      },
      "execution_count": null,
      "outputs": [
        {
          "output_type": "stream",
          "name": "stdout",
          "text": [
            "True\n",
            "True\n",
            "False\n",
            "True\n",
            "False\n"
          ]
        }
      ]
    },
    {
      "cell_type": "markdown",
      "source": [
        "## Mandar una Función como Parámetro"
      ],
      "metadata": {
        "id": "9XE1N24LQNKb"
      }
    },
    {
      "cell_type": "code",
      "source": [
        "def aplicar_funcion(argumento1,argumento2,fn):\n",
        "    return fn(argumento1,argumento2)\n",
        "\n",
        "valor1 = aplicar_funcion(1,2, lambda x1,x2: x1+x2)\n",
        "print(valor1)\n",
        "\n",
        "valor2 = aplicar_funcion(1,2, lambda x1,x2: x1/x2)\n",
        "print(valor2)\n",
        "\n",
        "valor3 = aplicar_funcion(1,2, lambda x1,x2: x1*x2)\n",
        "print(valor3)\n"
      ],
      "metadata": {
        "colab": {
          "base_uri": "https://localhost:8080/"
        },
        "id": "Pur9QKxzQMSs",
        "outputId": "e9ff1135-0d20-4e1d-c484-64fae0b1cb63"
      },
      "execution_count": null,
      "outputs": [
        {
          "output_type": "stream",
          "name": "stdout",
          "text": [
            "3\n",
            "0.5\n",
            "2\n"
          ]
        }
      ]
    },
    {
      "cell_type": "code",
      "source": [
        "def aplicar_funcion(lista_valores, fn):\n",
        "    for valor in lista_valores:\n",
        "        if fn(valor):\n",
        "            print(valor)\n",
        "\n",
        "valores = [13,14,25,8,4,11,38,1,3,17,21,6,5,18]\n",
        "print(\"Los valores pares son:\")\n",
        "aplicar_funcion(valores, lambda x: x%2==0)\n",
        "print(\"Los valores impares son:\")\n",
        "aplicar_funcion(valores, lambda x: x%2!=0)"
      ],
      "metadata": {
        "colab": {
          "base_uri": "https://localhost:8080/"
        },
        "id": "B_l5cnFGQ-GF",
        "outputId": "56226d26-a95a-424d-e17a-24d4ede43e0f"
      },
      "execution_count": null,
      "outputs": [
        {
          "output_type": "stream",
          "name": "stdout",
          "text": [
            "Los valores pares son:\n",
            "14\n",
            "8\n",
            "4\n",
            "38\n",
            "6\n",
            "18\n",
            "Los valores impares son:\n",
            "13\n",
            "25\n",
            "11\n",
            "1\n",
            "3\n",
            "17\n",
            "21\n",
            "5\n"
          ]
        }
      ]
    },
    {
      "cell_type": "markdown",
      "source": [
        "## Función map()"
      ],
      "metadata": {
        "id": "KqKGAzPUVopd"
      }
    },
    {
      "cell_type": "code",
      "source": [
        "lista_valores = [13,14,25,8,4,11,38,1,3,17,21,6,5,18]\n",
        "triplicar = list(map(lambda x : x*3, lista_valores))\n",
        "print(triplicar)"
      ],
      "metadata": {
        "colab": {
          "base_uri": "https://localhost:8080/"
        },
        "id": "DvlwTtiwVoeO",
        "outputId": "a24ba091-675c-4ea4-e644-9f7129d1b6c3"
      },
      "execution_count": null,
      "outputs": [
        {
          "output_type": "stream",
          "name": "stdout",
          "text": [
            "[39, 42, 75, 24, 12, 33, 114, 3, 9, 51, 63, 18, 15, 54]\n"
          ]
        }
      ]
    },
    {
      "cell_type": "markdown",
      "source": [
        "## Función filter()"
      ],
      "metadata": {
        "id": "9M0xHaWbYF53"
      }
    },
    {
      "cell_type": "code",
      "source": [
        "valores1 = [3,12,13,14,25,8,4,11,38,33,1,3,17,21,6,5,18]\n",
        "multiplos_3 = list(map(lambda x : x % 3 == 0, valores1))\n",
        "print(multiplos_3)"
      ],
      "metadata": {
        "colab": {
          "base_uri": "https://localhost:8080/"
        },
        "id": "DDauha26YyxQ",
        "outputId": "11691a4d-ca65-4749-bb3a-968900044b75"
      },
      "execution_count": null,
      "outputs": [
        {
          "output_type": "stream",
          "name": "stdout",
          "text": [
            "[True, True, False, False, False, False, False, False, False, True, False, True, False, True, True, False, True]\n"
          ]
        }
      ]
    },
    {
      "cell_type": "code",
      "source": [
        "valores1 = [3,12,13,14,25,8,4,11,38,33,1,3,17,21,6,5,18]\n",
        "multiplos_3 = list(filter(lambda x : x % 3 == 0, valores1))\n",
        "print(multiplos_3)"
      ],
      "metadata": {
        "colab": {
          "base_uri": "https://localhost:8080/"
        },
        "id": "Sl15A_Q5VrKt",
        "outputId": "ca9c3882-1d28-4bca-af24-883cb1c00ca3"
      },
      "execution_count": null,
      "outputs": [
        {
          "output_type": "stream",
          "name": "stdout",
          "text": [
            "[3, 12, 33, 3, 21, 6, 18]\n"
          ]
        }
      ]
    }
  ]
}