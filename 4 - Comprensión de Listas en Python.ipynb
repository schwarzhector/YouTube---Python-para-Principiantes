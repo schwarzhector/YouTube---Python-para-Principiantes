{
  "nbformat": 4,
  "nbformat_minor": 0,
  "metadata": {
    "colab": {
      "name": "Aprendiendo Python - 4taParte.ipynb",
      "provenance": []
    },
    "kernelspec": {
      "name": "python3",
      "display_name": "Python 3"
    },
    "language_info": {
      "name": "python"
    }
  },
  "cells": [
    {
      "cell_type": "markdown",
      "source": [
        "Código utilizado en el video:<br>\n",
        "https://youtu.be/dKCA6DiudlE"
      ],
      "metadata": {
        "id": "opK-uD_ZTEOQ"
      }
    },
    {
      "cell_type": "markdown",
      "source": [
        "# Comprensión de Listas"
      ],
      "metadata": {
        "id": "7MuWfdliAKCv"
      }
    },
    {
      "cell_type": "code",
      "execution_count": null,
      "metadata": {
        "colab": {
          "base_uri": "https://localhost:8080/"
        },
        "id": "7T3F3d97_kXP",
        "outputId": "5c44c948-1c4b-461a-ed06-1b1913ce1476"
      },
      "outputs": [
        {
          "output_type": "stream",
          "name": "stdout",
          "text": [
            "['LONDRES', 'MADRID', 'ROMA', 'MONTEVIDEO']\n"
          ]
        }
      ],
      "source": [
        "capitales = ['londres','madrid','roma','montevideo']\n",
        "capitales_mayus = [capital.upper() for capital in capitales]\n",
        "print(capitales_mayus)"
      ]
    },
    {
      "cell_type": "code",
      "source": [
        "capitales_mayus = []\n",
        "for capital in capitales:\n",
        "    capitales_mayus.append(capital.upper())\n",
        "print(capitales_mayus)"
      ],
      "metadata": {
        "colab": {
          "base_uri": "https://localhost:8080/"
        },
        "id": "cN8qHlLoDM_s",
        "outputId": "0f97dc2e-33f2-432a-f8cc-e7c906874fcd"
      },
      "execution_count": null,
      "outputs": [
        {
          "output_type": "stream",
          "name": "stdout",
          "text": [
            "['LONDRES', 'MADRID', 'ROMA', 'MONTEVIDEO']\n"
          ]
        }
      ]
    },
    {
      "cell_type": "code",
      "source": [
        "capitales = [capital.upper() for capital in capitales]\n",
        "print(capitales)"
      ],
      "metadata": {
        "colab": {
          "base_uri": "https://localhost:8080/"
        },
        "id": "CXEJS2quDgTe",
        "outputId": "81ecfdeb-9042-4d5f-92cf-22920fb7f53a"
      },
      "execution_count": null,
      "outputs": [
        {
          "output_type": "stream",
          "name": "stdout",
          "text": [
            "['LONDRES', 'MADRID', 'ROMA', 'MONTEVIDEO']\n"
          ]
        }
      ]
    },
    {
      "cell_type": "markdown",
      "source": [
        "### Pares vs Impares"
      ],
      "metadata": {
        "id": "CtMDcDjMHRUI"
      }
    },
    {
      "cell_type": "code",
      "source": [
        "valores = [13,14,25,8,4,11,38,1,3,17,21,6,5,18]\n",
        "\n",
        "son_pares = [valor for valor in valores if valor % 2 ==0]\n",
        "\n",
        "son_impares = [valor for valor in valores if valor % 2 !=0]\n",
        "\n",
        "print(son_pares)\n",
        "print(son_impares)"
      ],
      "metadata": {
        "colab": {
          "base_uri": "https://localhost:8080/"
        },
        "id": "EMrd5RLuD5cP",
        "outputId": "7f92fda9-6543-422b-e855-0956e3da46cb"
      },
      "execution_count": null,
      "outputs": [
        {
          "output_type": "stream",
          "name": "stdout",
          "text": [
            "[14, 8, 4, 38, 6, 18]\n",
            "[13, 25, 11, 1, 3, 17, 21, 5]\n"
          ]
        }
      ]
    },
    {
      "cell_type": "markdown",
      "source": [
        "### Centígrados vs Fahrenheit"
      ],
      "metadata": {
        "id": "W0L92iv6HgfQ"
      }
    },
    {
      "cell_type": "code",
      "source": [
        "temperatura_C = [33,30,34,32,28,29,33]\n",
        "temperatura_F = [ ((float(9)/5)*x + 32) for x in temperatura_C ]\n",
        "print(temperatura_F)"
      ],
      "metadata": {
        "colab": {
          "base_uri": "https://localhost:8080/"
        },
        "id": "Urtf7QdKHi97",
        "outputId": "38fc4705-1a33-42bc-e6f2-342cf2fb5beb"
      },
      "execution_count": null,
      "outputs": [
        {
          "output_type": "stream",
          "name": "stdout",
          "text": [
            "[91.4, 86.0, 93.2, 89.6, 82.4, 84.2, 91.4]\n"
          ]
        }
      ]
    },
    {
      "cell_type": "markdown",
      "source": [
        "### Empresas y sus símbolos"
      ],
      "metadata": {
        "id": "NGW8e6upIQA4"
      }
    },
    {
      "cell_type": "code",
      "source": [
        "empresas = ['Microsoft','Amazon','Netflix','Disney']\n",
        "symbols = ['MSFT','AMZN','NFLX','DIS' ]\n",
        "empresas_symbol = [ \n",
        "                    empresa\n",
        "                    for empresa in zip(empresas, symbols)                    \n",
        "                  ]\n",
        "print(empresas_symbol)"
      ],
      "metadata": {
        "colab": {
          "base_uri": "https://localhost:8080/"
        },
        "id": "DlBBsiH5IR60",
        "outputId": "d891163d-d549-4c34-b2a2-f2d24c9217de"
      },
      "execution_count": null,
      "outputs": [
        {
          "output_type": "stream",
          "name": "stdout",
          "text": [
            "[('Microsoft', 'MSFT'), ('Amazon', 'AMZN'), ('Netflix', 'NFLX'), ('Disney', 'DIS')]\n"
          ]
        }
      ]
    },
    {
      "cell_type": "code",
      "source": [
        ""
      ],
      "metadata": {
        "id": "du8YFnLldQrI"
      },
      "execution_count": null,
      "outputs": []
    }
  ]
}