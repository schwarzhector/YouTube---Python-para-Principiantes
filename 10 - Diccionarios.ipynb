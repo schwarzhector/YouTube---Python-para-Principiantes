{
  "nbformat": 4,
  "nbformat_minor": 0,
  "metadata": {
    "colab": {
      "provenance": []
    },
    "kernelspec": {
      "name": "python3",
      "display_name": "Python 3"
    },
    "language_info": {
      "name": "python"
    }
  },
  "cells": [
    {
      "cell_type": "markdown",
      "source": [
        "Código utilizado en el video:<br>\n",
        "https://youtu.be/ifO1HGkiccU"
      ],
      "metadata": {
        "id": "N0FlKmoQb3ky"
      }
    },
    {
      "cell_type": "markdown",
      "source": [
        "# Diccionarios"
      ],
      "metadata": {
        "id": "u9vFJSarMb9D"
      }
    },
    {
      "cell_type": "code",
      "execution_count": 1,
      "metadata": {
        "id": "4nwB1ylKMFXt"
      },
      "outputs": [],
      "source": [
        "diccionario = {\n",
        "    'Nombre':'Juan',\n",
        "    'Apellido':'Fernández',\n",
        "    'Cargo':'Gerente',\n",
        "    'Legajo': '4312'\n",
        "}"
      ]
    },
    {
      "cell_type": "code",
      "source": [
        "print(diccionario)"
      ],
      "metadata": {
        "colab": {
          "base_uri": "https://localhost:8080/"
        },
        "id": "B1mhzEqeOBK5",
        "outputId": "5a7bd38d-8eee-4aa7-f5be-bbdd2372f603"
      },
      "execution_count": 2,
      "outputs": [
        {
          "output_type": "stream",
          "name": "stdout",
          "text": [
            "{'Nombre': 'Juan', 'Apellido': 'Fernández', 'Cargo': 'Gerente', 'Legajo': '4312'}\n"
          ]
        }
      ]
    },
    {
      "cell_type": "code",
      "source": [
        "print(diccionario.values())"
      ],
      "metadata": {
        "colab": {
          "base_uri": "https://localhost:8080/"
        },
        "id": "wUJ3hpKXOc2h",
        "outputId": "da5b025b-c38c-4336-a6f4-3465368acd1a"
      },
      "execution_count": 3,
      "outputs": [
        {
          "output_type": "stream",
          "name": "stdout",
          "text": [
            "dict_values(['Juan', 'Fernández', 'Gerente', '4312'])\n"
          ]
        }
      ]
    },
    {
      "cell_type": "code",
      "source": [
        "print(diccionario.keys())"
      ],
      "metadata": {
        "colab": {
          "base_uri": "https://localhost:8080/"
        },
        "id": "vPmw0a-3OX4p",
        "outputId": "b2f3de59-cb57-4d2c-f7a5-1b1d572425c5"
      },
      "execution_count": 4,
      "outputs": [
        {
          "output_type": "stream",
          "name": "stdout",
          "text": [
            "dict_keys(['Nombre', 'Apellido', 'Cargo', 'Legajo'])\n"
          ]
        }
      ]
    },
    {
      "cell_type": "code",
      "source": [
        "print(diccionario['Apellido'])"
      ],
      "metadata": {
        "colab": {
          "base_uri": "https://localhost:8080/"
        },
        "id": "9GC8iG4BOCqC",
        "outputId": "a50364f7-04b0-48ed-da06-963c6efacf78"
      },
      "execution_count": 5,
      "outputs": [
        {
          "output_type": "stream",
          "name": "stdout",
          "text": [
            "Fernández\n"
          ]
        }
      ]
    },
    {
      "cell_type": "code",
      "source": [
        "print(diccionario.get('Apellido'))"
      ],
      "metadata": {
        "colab": {
          "base_uri": "https://localhost:8080/"
        },
        "id": "QboVdiF3OPIB",
        "outputId": "2a3d37cc-6318-498f-b601-d15e0356ee24"
      },
      "execution_count": 6,
      "outputs": [
        {
          "output_type": "stream",
          "name": "stdout",
          "text": [
            "Fernández\n"
          ]
        }
      ]
    },
    {
      "cell_type": "markdown",
      "source": [
        "## Actualizar"
      ],
      "metadata": {
        "id": "6vNXO9SaP_QZ"
      }
    },
    {
      "cell_type": "code",
      "source": [
        "diccionario.update({'Legajo': '4313'})\n",
        "print(diccionario)"
      ],
      "metadata": {
        "colab": {
          "base_uri": "https://localhost:8080/"
        },
        "id": "uoyeu0VdOxDx",
        "outputId": "e7f1369d-6971-4a4a-9da6-3e5bef911da1"
      },
      "execution_count": 7,
      "outputs": [
        {
          "output_type": "stream",
          "name": "stdout",
          "text": [
            "{'Nombre': 'Juan', 'Apellido': 'Fernández', 'Cargo': 'Gerente', 'Legajo': '4313'}\n"
          ]
        }
      ]
    },
    {
      "cell_type": "markdown",
      "source": [
        "## Agregar "
      ],
      "metadata": {
        "id": "7wj5Aw0pP5Aq"
      }
    },
    {
      "cell_type": "code",
      "source": [
        "diccionario['Fecha de Nacimiento'] = '24 de junio de 1987'\n",
        "print(diccionario)"
      ],
      "metadata": {
        "colab": {
          "base_uri": "https://localhost:8080/"
        },
        "id": "nZuuBTS2PVqY",
        "outputId": "73b0709a-0838-418f-e45b-617a9bf758f5"
      },
      "execution_count": 8,
      "outputs": [
        {
          "output_type": "stream",
          "name": "stdout",
          "text": [
            "{'Nombre': 'Juan', 'Apellido': 'Fernández', 'Cargo': 'Gerente', 'Legajo': '4313', 'Fecha de Nacimiento': '24 de junio de 1987'}\n"
          ]
        }
      ]
    },
    {
      "cell_type": "markdown",
      "source": [
        "## Eliminar"
      ],
      "metadata": {
        "id": "KXG6jzTRQDDo"
      }
    },
    {
      "cell_type": "code",
      "source": [
        "diccionario.pop('Legajo')\n",
        "print(diccionario)"
      ],
      "metadata": {
        "colab": {
          "base_uri": "https://localhost:8080/"
        },
        "id": "cQBzthRIPk9p",
        "outputId": "c6c22e55-8fa1-4f54-f4c1-dad154108182"
      },
      "execution_count": 9,
      "outputs": [
        {
          "output_type": "stream",
          "name": "stdout",
          "text": [
            "{'Nombre': 'Juan', 'Apellido': 'Fernández', 'Cargo': 'Gerente', 'Fecha de Nacimiento': '24 de junio de 1987'}\n"
          ]
        }
      ]
    },
    {
      "cell_type": "code",
      "source": [],
      "metadata": {
        "id": "sRRVro2FPvV5"
      },
      "execution_count": null,
      "outputs": []
    }
  ]
}