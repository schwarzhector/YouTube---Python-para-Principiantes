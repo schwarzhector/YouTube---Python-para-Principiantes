{
  "nbformat": 4,
  "nbformat_minor": 0,
  "metadata": {
    "colab": {
      "name": "Aprendiendo Python - 8vaParte.ipynb",
      "provenance": [],
      "collapsed_sections": []
    },
    "kernelspec": {
      "name": "python3",
      "display_name": "Python 3"
    },
    "language_info": {
      "name": "python"
    }
  },
  "cells": [
    {
      "cell_type": "markdown",
      "source": [
        "Código utilizado en el video:<br>\n",
        "https://youtu.be/iv-oIU_9Jow"
      ],
      "metadata": {
        "id": "4V3VrEIpTykZ"
      }
    },
    {
      "cell_type": "markdown",
      "source": [
        "# Interactuando con el usuario"
      ],
      "metadata": {
        "id": "VspCluk0Byfc"
      }
    },
    {
      "cell_type": "code",
      "source": [
        "nombre = input(\"Ingresar el nombre: \")\n",
        "apellido = input(\"Ingresar el apellido: \")\n",
        "print(\"Nombre: \"+nombre)\n",
        "print(\"Apellido: \"+apellido)"
      ],
      "metadata": {
        "colab": {
          "base_uri": "https://localhost:8080/"
        },
        "id": "xsV4YpsiPkX3",
        "outputId": "737e0bf1-320e-432d-ad01-4d6108dea7d1"
      },
      "execution_count": null,
      "outputs": [
        {
          "output_type": "stream",
          "name": "stdout",
          "text": [
            "Ingresar el nombre: Héctor\n",
            "Ingresar el apellido: Schwarz\n",
            "Nombre: Héctor\n",
            "Apellido: Schwarz\n"
          ]
        }
      ]
    },
    {
      "cell_type": "code",
      "source": [
        "nombre = input(\"Ingresar el nombre: \")\n",
        "apellido = input(\"Ingresar el apellido: \")\n",
        "print(f\"Nombre: {nombre}\")\n",
        "print(f\"Apellido:{apellido} \")"
      ],
      "metadata": {
        "colab": {
          "base_uri": "https://localhost:8080/"
        },
        "id": "pyvDPO-EOoyK",
        "outputId": "e525ec78-c592-4a9f-fa6c-11aa9e3b19d8"
      },
      "execution_count": null,
      "outputs": [
        {
          "output_type": "stream",
          "name": "stdout",
          "text": [
            "Ingresar el nombre: Héctor\n",
            "Ingresar el apellido: Schwarz\n",
            "Nombre: Héctor\n",
            "Apellido:Schwarz \n"
          ]
        }
      ]
    },
    {
      "cell_type": "markdown",
      "source": [
        "### Ingresando números"
      ],
      "metadata": {
        "id": "RgVHOVmiCqVy"
      }
    },
    {
      "cell_type": "code",
      "source": [
        "variable1 = input(\"Ingresar un número: \")\n",
        "variable2 = input(\"Ingresar otro número: \")\n",
        "resultado_suma = variable1 + variable2\n",
        "print(\"La suma de los números es: \"+resultado_suma)"
      ],
      "metadata": {
        "id": "v11ZX44VCEKg",
        "colab": {
          "base_uri": "https://localhost:8080/"
        },
        "outputId": "3531b55f-e0ce-4ff9-e25d-0dc95e3a8f8b"
      },
      "execution_count": null,
      "outputs": [
        {
          "output_type": "stream",
          "name": "stdout",
          "text": [
            "Ingresar un número: 200\n",
            "Ingresar otro número: 300\n",
            "La suma de los números es: 200300\n"
          ]
        }
      ]
    },
    {
      "cell_type": "markdown",
      "source": [
        "#### Conversión a int"
      ],
      "metadata": {
        "id": "2eErvP0GD6Xw"
      }
    },
    {
      "cell_type": "code",
      "source": [
        "variable1 = int(input(\"Ingresar un número: \"))\n",
        "variable2 = int(input(\"Ingresar otro número: \"))\n",
        "resultado_suma = variable1 + variable2\n",
        "print(\"La suma de los números es: \"+str(resultado_suma))"
      ],
      "metadata": {
        "id": "sJBOWsctCkyx",
        "colab": {
          "base_uri": "https://localhost:8080/"
        },
        "outputId": "41eccdcf-f795-44df-80a0-47d8176ec0e6"
      },
      "execution_count": null,
      "outputs": [
        {
          "output_type": "stream",
          "name": "stdout",
          "text": [
            "Ingresar un número: 200\n",
            "Ingresar otro número: 300\n",
            "La suma de los números es: 500\n"
          ]
        }
      ]
    },
    {
      "cell_type": "markdown",
      "source": [
        "#### Conversión a float"
      ],
      "metadata": {
        "id": "xLsOd8fpD-c_"
      }
    },
    {
      "cell_type": "code",
      "source": [
        "variable1 = float(input(\"Ingresar un número: \"))\n",
        "variable2 = float(input(\"Ingresar otro número: \"))\n",
        "resultado_suma = variable1 + variable2\n",
        "print(\"La suma de los números es: \"+str(resultado_suma))"
      ],
      "metadata": {
        "id": "vT6iEWSCCz6B",
        "colab": {
          "base_uri": "https://localhost:8080/"
        },
        "outputId": "94f1a05f-0eeb-47a2-b26b-37cf798afc36"
      },
      "execution_count": null,
      "outputs": [
        {
          "output_type": "stream",
          "name": "stdout",
          "text": [
            "Ingresar un número: 1.3\n",
            "Ingresar otro número: 2.7\n",
            "La suma de los números es: 4.0\n"
          ]
        }
      ]
    },
    {
      "cell_type": "markdown",
      "source": [
        "### Combinación"
      ],
      "metadata": {
        "id": "rJPhmcVREI_A"
      }
    },
    {
      "cell_type": "code",
      "source": [
        "while True:\n",
        "    try:\n",
        "        edad = int(input(\"Por favor ingrese su edad: \"))\n",
        "    except ValueError:\n",
        "        print(\"<< Solamente puede ingresar números >>\")\n",
        "        print(\"Vuelva a intentarlo\")\n",
        "        continue\n",
        "\n",
        "    if edad < 0:\n",
        "        print(\"Debe ingresar un número mayor a cero\")\n",
        "        continue\n",
        "    else:\n",
        "        # Edad válida\n",
        "        # Podemos salir de este ciclo while\n",
        "        break\n",
        "\n",
        "if edad >= 18: \n",
        "  print(\"Usted ya puede comenzar a trabajar\")\n",
        "elif edad >= 16:\n",
        "  print(\"Usted puede comenzar a trabajar, pero solo con autorización de sus progenitores\")\n",
        "else:\n",
        "    print(\"No puede comenzar a trabajar ni con autorización de sus padres\")"
      ],
      "metadata": {
        "id": "lngUbfoQEkgV",
        "colab": {
          "base_uri": "https://localhost:8080/"
        },
        "outputId": "b9907b6e-6521-49b9-c085-4332626efd53"
      },
      "execution_count": null,
      "outputs": [
        {
          "output_type": "stream",
          "name": "stdout",
          "text": [
            "Por favor ingrese su edad: veinte\n",
            "<< Solamente puede ingresar números >>\n",
            "Vuelva a intentarlo\n",
            "Por favor ingrese su edad: -20\n",
            "Debe ingresar un número mayor a cero\n",
            "Por favor ingrese su edad: 17\n",
            "Usted puede comenzar a trabajar, pero solo con autorización de sus progenitores\n"
          ]
        }
      ]
    },
    {
      "cell_type": "code",
      "source": [
        ""
      ],
      "metadata": {
        "id": "to2zGpfQIR-k"
      },
      "execution_count": null,
      "outputs": []
    }
  ]
}