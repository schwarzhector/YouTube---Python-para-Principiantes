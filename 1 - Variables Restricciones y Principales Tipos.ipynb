{
  "nbformat": 4,
  "nbformat_minor": 0,
  "metadata": {
    "colab": {
      "name": "Aprendiendo Python - 1raParte.ipynb",
      "provenance": []
    },
    "kernelspec": {
      "name": "python3",
      "display_name": "Python 3"
    },
    "language_info": {
      "name": "python"
    }
  },
  "cells": [
    {
      "cell_type": "markdown",
      "source": [
        "Código utilizado en el video:<br>\n",
        "https://youtu.be/c7Az-K7eaK8"
      ],
      "metadata": {
        "id": "KQXtMoGySYyB"
      }
    },
    {
      "cell_type": "markdown",
      "source": [
        "# ¿Qué es una variable?"
      ],
      "metadata": {
        "id": "OXvo-GZwPRQG"
      }
    },
    {
      "cell_type": "code",
      "execution_count": null,
      "metadata": {
        "colab": {
          "base_uri": "https://localhost:8080/"
        },
        "id": "h2tGEpb5IYO4",
        "outputId": "501d087a-b16c-4421-b41d-7cbc67e3b7ee"
      },
      "outputs": [
        {
          "output_type": "stream",
          "name": "stdout",
          "text": [
            "Perrito\n"
          ]
        }
      ],
      "source": [
        "nombre_variable = \"Perrito\"\n",
        "print(nombre_variable)"
      ]
    },
    {
      "cell_type": "code",
      "source": [
        "print(type(nombre_variable))"
      ],
      "metadata": {
        "colab": {
          "base_uri": "https://localhost:8080/"
        },
        "id": "rk5R9s3wYMNS",
        "outputId": "116176d8-e807-4393-8ddd-78175ce20d6b"
      },
      "execution_count": null,
      "outputs": [
        {
          "output_type": "stream",
          "name": "stdout",
          "text": [
            "<class 'str'>\n"
          ]
        }
      ]
    },
    {
      "cell_type": "code",
      "source": [
        "x = 1535\n",
        "print(x)"
      ],
      "metadata": {
        "colab": {
          "base_uri": "https://localhost:8080/"
        },
        "id": "bDQUkjjvT1TH",
        "outputId": "4d65fae2-8386-4d7c-cca4-065f553edfd1"
      },
      "execution_count": null,
      "outputs": [
        {
          "output_type": "stream",
          "name": "stdout",
          "text": [
            "1535\n"
          ]
        }
      ]
    },
    {
      "cell_type": "code",
      "source": [
        "print(type(x))"
      ],
      "metadata": {
        "colab": {
          "base_uri": "https://localhost:8080/"
        },
        "id": "T1TD4esiT1V3",
        "outputId": "a4a42513-7224-4be6-b4ea-e8994bd41a60"
      },
      "execution_count": null,
      "outputs": [
        {
          "output_type": "stream",
          "name": "stdout",
          "text": [
            "<class 'int'>\n"
          ]
        }
      ]
    },
    {
      "cell_type": "markdown",
      "source": [
        "# Restricciones<p>\n",
        "## 1- Distingue mayúsculas de minúsculas\n"
      ],
      "metadata": {
        "id": "iJiujuUYXKOS"
      }
    },
    {
      "cell_type": "code",
      "source": [
        "var = \"gatito\"\n",
        "vAR = 654654\n",
        "print(var)\n",
        "print(vAR)"
      ],
      "metadata": {
        "colab": {
          "base_uri": "https://localhost:8080/"
        },
        "id": "FkIgJmSlT1YP",
        "outputId": "d9963df9-ee63-4f74-8dad-95880389e85a"
      },
      "execution_count": null,
      "outputs": [
        {
          "output_type": "stream",
          "name": "stdout",
          "text": [
            "gatito\n",
            "654654\n"
          ]
        }
      ]
    },
    {
      "cell_type": "markdown",
      "source": [
        "## 2- El nombre no puede comenzar con un número"
      ],
      "metadata": {
        "id": "XDK9n90xt_D0"
      }
    },
    {
      "cell_type": "code",
      "source": [
        "1x = \"gatito\"\n",
        "print(1x)"
      ],
      "metadata": {
        "colab": {
          "base_uri": "https://localhost:8080/",
          "height": 130
        },
        "id": "scHkPwIaT1aw",
        "outputId": "9d5af419-415e-42ab-a78c-60cb38141cfe"
      },
      "execution_count": null,
      "outputs": [
        {
          "output_type": "error",
          "ename": "SyntaxError",
          "evalue": "ignored",
          "traceback": [
            "\u001b[0;36m  File \u001b[0;32m\"<ipython-input-20-34bb8e56a053>\"\u001b[0;36m, line \u001b[0;32m1\u001b[0m\n\u001b[0;31m    1x = \"gatito\"\u001b[0m\n\u001b[0m     ^\u001b[0m\n\u001b[0;31mSyntaxError\u001b[0m\u001b[0;31m:\u001b[0m invalid syntax\n"
          ]
        }
      ]
    },
    {
      "cell_type": "markdown",
      "source": [
        "## 3- Solo pueden contener caracteres alfanuméricos y guiones bajo."
      ],
      "metadata": {
        "id": "wYSolIaFX70B"
      }
    },
    {
      "cell_type": "code",
      "source": [
        "X6565 = \"pájaro\"\n",
        "print(X6565)"
      ],
      "metadata": {
        "colab": {
          "base_uri": "https://localhost:8080/"
        },
        "id": "D5tYuwn7T1df",
        "outputId": "3152b9a7-8290-4c16-e15c-b348ee8edfc4"
      },
      "execution_count": null,
      "outputs": [
        {
          "output_type": "stream",
          "name": "stdout",
          "text": [
            "pájaro\n"
          ]
        }
      ]
    },
    {
      "cell_type": "code",
      "source": [
        "x_12345 = 3\n",
        "print(x_12345)"
      ],
      "metadata": {
        "colab": {
          "base_uri": "https://localhost:8080/"
        },
        "id": "t_2BZH26YHdG",
        "outputId": "baf623d4-b15a-402d-c0b4-4a877e679ffa"
      },
      "execution_count": null,
      "outputs": [
        {
          "output_type": "stream",
          "name": "stdout",
          "text": [
            "3\n"
          ]
        }
      ]
    },
    {
      "cell_type": "code",
      "source": [
        "*variable = 3\n",
        "print(*variable)"
      ],
      "metadata": {
        "colab": {
          "base_uri": "https://localhost:8080/",
          "height": 130
        },
        "id": "QOTHvEzOYMWg",
        "outputId": "9ade5d55-d5ac-49fd-f633-dd58b612a8d4"
      },
      "execution_count": null,
      "outputs": [
        {
          "output_type": "error",
          "ename": "SyntaxError",
          "evalue": "ignored",
          "traceback": [
            "\u001b[0;36m  File \u001b[0;32m\"<ipython-input-14-7dcc4269c313>\"\u001b[0;36m, line \u001b[0;32m1\u001b[0m\n\u001b[0;31m    *variable = 3\u001b[0m\n\u001b[0m                 ^\u001b[0m\n\u001b[0;31mSyntaxError\u001b[0m\u001b[0;31m:\u001b[0m starred assignment target must be in a list or tuple\n"
          ]
        }
      ]
    },
    {
      "cell_type": "code",
      "source": [
        "--variable = 3"
      ],
      "metadata": {
        "colab": {
          "base_uri": "https://localhost:8080/",
          "height": 130
        },
        "id": "qc97RaDhuQwV",
        "outputId": "7ff50f0b-c8a8-4f7e-e9eb-9fc466f7d78e"
      },
      "execution_count": null,
      "outputs": [
        {
          "output_type": "error",
          "ename": "SyntaxError",
          "evalue": "ignored",
          "traceback": [
            "\u001b[0;36m  File \u001b[0;32m\"<ipython-input-21-0a14824cc939>\"\u001b[0;36m, line \u001b[0;32m1\u001b[0m\n\u001b[0;31m    --variable = 3\u001b[0m\n\u001b[0m                  ^\u001b[0m\n\u001b[0;31mSyntaxError\u001b[0m\u001b[0;31m:\u001b[0m can't assign to operator\n"
          ]
        }
      ]
    },
    {
      "cell_type": "markdown",
      "source": [
        "## 4- Los nombres de variables no admiten espacios"
      ],
      "metadata": {
        "id": "WXP4912QYcha"
      }
    },
    {
      "cell_type": "code",
      "source": [
        "var 2 = 3"
      ],
      "metadata": {
        "colab": {
          "base_uri": "https://localhost:8080/",
          "height": 130
        },
        "id": "FKe-K1emYXnw",
        "outputId": "caae216a-26ff-4e97-8800-b9719a2e8820"
      },
      "execution_count": null,
      "outputs": [
        {
          "output_type": "error",
          "ename": "SyntaxError",
          "evalue": "ignored",
          "traceback": [
            "\u001b[0;36m  File \u001b[0;32m\"<ipython-input-15-184682855c6a>\"\u001b[0;36m, line \u001b[0;32m1\u001b[0m\n\u001b[0;31m    var 2 = 3\u001b[0m\n\u001b[0m        ^\u001b[0m\n\u001b[0;31mSyntaxError\u001b[0m\u001b[0;31m:\u001b[0m invalid syntax\n"
          ]
        }
      ]
    },
    {
      "cell_type": "markdown",
      "source": [
        "# Asignación"
      ],
      "metadata": {
        "id": "Iz91h_30YucK"
      }
    },
    {
      "cell_type": "code",
      "source": [
        "var1 = var2 = var3 = 1535\n",
        "print(var1)\n",
        "print(var2)\n",
        "print(var3)"
      ],
      "metadata": {
        "colab": {
          "base_uri": "https://localhost:8080/"
        },
        "id": "2ARGjZa3YhAo",
        "outputId": "ca35687a-f6e2-4e4f-8aef-7fcbf20e1702"
      },
      "execution_count": null,
      "outputs": [
        {
          "output_type": "stream",
          "name": "stdout",
          "text": [
            "1535\n",
            "1535\n",
            "1535\n"
          ]
        }
      ]
    },
    {
      "cell_type": "code",
      "source": [
        "var4, var5, var6 = 44, 55, 66\n",
        "print(var4)\n",
        "print(var5)\n",
        "print(var6)"
      ],
      "metadata": {
        "colab": {
          "base_uri": "https://localhost:8080/"
        },
        "id": "OPOHBXH3Y3IA",
        "outputId": "bddecdcc-ffe3-46ab-9fb1-387490801c1d"
      },
      "execution_count": null,
      "outputs": [
        {
          "output_type": "stream",
          "name": "stdout",
          "text": [
            "44\n",
            "55\n",
            "66\n"
          ]
        }
      ]
    },
    {
      "cell_type": "markdown",
      "source": [
        "# Tipos de Variables"
      ],
      "metadata": {
        "id": "aOU0S4fdn9VL"
      }
    },
    {
      "cell_type": "markdown",
      "source": [
        "## 1- Tipo Texto "
      ],
      "metadata": {
        "id": "Tvd6EVRhucy0"
      }
    },
    {
      "cell_type": "code",
      "source": [
        "nombre = 'Mario'\n",
        "apellido = \"Bros\"\n",
        "print(\"El nombre es: \"+nombre)\n",
        "print(\"El apellido es: \"+apellido)"
      ],
      "metadata": {
        "colab": {
          "base_uri": "https://localhost:8080/"
        },
        "id": "ZMPg7D68unME",
        "outputId": "06fffe5f-e095-47c1-f30a-7e0761c39d9b"
      },
      "execution_count": null,
      "outputs": [
        {
          "output_type": "stream",
          "name": "stdout",
          "text": [
            "El nombre es: Mario\n",
            "El apellido es: Bros\n"
          ]
        }
      ]
    },
    {
      "cell_type": "markdown",
      "source": [
        "## 2- Tipo Numérico"
      ],
      "metadata": {
        "id": "vbx5C5MAugXk"
      }
    },
    {
      "cell_type": "code",
      "source": [
        "num1 = 20   # int\n",
        "num2 = 20.2 # float\n",
        "print(num1)\n",
        "print(num2)"
      ],
      "metadata": {
        "colab": {
          "base_uri": "https://localhost:8080/"
        },
        "id": "-gslWuKjwBTW",
        "outputId": "9a016a88-0647-4575-c467-4d8afaad449b"
      },
      "execution_count": null,
      "outputs": [
        {
          "output_type": "stream",
          "name": "stdout",
          "text": [
            "20\n",
            "20.2\n"
          ]
        }
      ]
    },
    {
      "cell_type": "code",
      "source": [
        "variable1 = str(20)   \n",
        "variable2 = float(20)    \n",
        "print(variable1)\n",
        "print(variable2)"
      ],
      "metadata": {
        "colab": {
          "base_uri": "https://localhost:8080/"
        },
        "id": "9ihAm0ADunlc",
        "outputId": "0ce425bf-f410-46dc-97b9-a31968c7dda5"
      },
      "execution_count": null,
      "outputs": [
        {
          "output_type": "stream",
          "name": "stdout",
          "text": [
            "20\n",
            "20.0\n"
          ]
        }
      ]
    },
    {
      "cell_type": "markdown",
      "source": [
        "## 3- Booleanos"
      ],
      "metadata": {
        "id": "RqSpvD6juiLt"
      }
    },
    {
      "cell_type": "code",
      "source": [
        "print(1535 < -88)\n",
        "print(1000 > 888)"
      ],
      "metadata": {
        "colab": {
          "base_uri": "https://localhost:8080/"
        },
        "id": "sZCiXzPlw9bN",
        "outputId": "41385433-3902-4269-c7f0-2cf7aef1494d"
      },
      "execution_count": null,
      "outputs": [
        {
          "output_type": "stream",
          "name": "stdout",
          "text": [
            "False\n",
            "True\n"
          ]
        }
      ]
    },
    {
      "cell_type": "code",
      "source": [
        "a = 20\n",
        "b = 21\n",
        "print(a == b)"
      ],
      "metadata": {
        "colab": {
          "base_uri": "https://localhost:8080/"
        },
        "id": "5jt1h1qoxf5F",
        "outputId": "3f6fd375-0208-4a06-baa3-a210c1dae23d"
      },
      "execution_count": null,
      "outputs": [
        {
          "output_type": "stream",
          "name": "stdout",
          "text": [
            "False\n"
          ]
        }
      ]
    },
    {
      "cell_type": "code",
      "source": [
        "texto = \"65465456\"\n",
        "print(bool(texto))\n"
      ],
      "metadata": {
        "colab": {
          "base_uri": "https://localhost:8080/"
        },
        "id": "LcKUAqtquoO0",
        "outputId": "95f042c3-ffd8-4e82-c3fd-f9f0c6d8f35a"
      },
      "execution_count": null,
      "outputs": [
        {
          "output_type": "stream",
          "name": "stdout",
          "text": [
            "True\n"
          ]
        }
      ]
    },
    {
      "cell_type": "code",
      "source": [
        "numer = 10\n",
        "print(bool(numer))"
      ],
      "metadata": {
        "colab": {
          "base_uri": "https://localhost:8080/"
        },
        "id": "IW_SzrQAwy8W",
        "outputId": "aee289c0-ac6d-463a-b5bc-e69f93233c45"
      },
      "execution_count": null,
      "outputs": [
        {
          "output_type": "stream",
          "name": "stdout",
          "text": [
            "True\n"
          ]
        }
      ]
    },
    {
      "cell_type": "markdown",
      "source": [
        "## 4- Listas y Tuplas"
      ],
      "metadata": {
        "id": "iceOvzKtuj2E"
      }
    },
    {
      "cell_type": "code",
      "source": [
        "postres = ['torta','helado','panqueque']\n",
        "print(postres)"
      ],
      "metadata": {
        "id": "echtLmJRZGno",
        "colab": {
          "base_uri": "https://localhost:8080/"
        },
        "outputId": "d6d81be2-69d2-4e4f-82a4-eecf9350880b"
      },
      "execution_count": null,
      "outputs": [
        {
          "output_type": "stream",
          "name": "stdout",
          "text": [
            "['torta', 'helado', 'panqueque']\n"
          ]
        }
      ]
    },
    {
      "cell_type": "code",
      "source": [
        "print(postres[2])"
      ],
      "metadata": {
        "colab": {
          "base_uri": "https://localhost:8080/"
        },
        "id": "oPTzae1QywbM",
        "outputId": "b9c1e939-298c-4c6d-f8c8-07f894371354"
      },
      "execution_count": null,
      "outputs": [
        {
          "output_type": "stream",
          "name": "stdout",
          "text": [
            "panqueque\n"
          ]
        }
      ]
    },
    {
      "cell_type": "code",
      "source": [
        "print(len(postres))"
      ],
      "metadata": {
        "colab": {
          "base_uri": "https://localhost:8080/"
        },
        "id": "I_UZpA05y7Os",
        "outputId": "e9b195e1-7d4b-46a8-e6dd-c32bb29d1336"
      },
      "execution_count": null,
      "outputs": [
        {
          "output_type": "stream",
          "name": "stdout",
          "text": [
            "3\n"
          ]
        }
      ]
    },
    {
      "cell_type": "code",
      "source": [
        "postres.append(\"budín\")\n",
        "print(postres)"
      ],
      "metadata": {
        "colab": {
          "base_uri": "https://localhost:8080/"
        },
        "id": "nBxR0THBzvBX",
        "outputId": "bdfbfe23-be51-4073-e607-72b17f55b00b"
      },
      "execution_count": null,
      "outputs": [
        {
          "output_type": "stream",
          "name": "stdout",
          "text": [
            "['torta', 'helado', 'panqueque', 'budín']\n"
          ]
        }
      ]
    },
    {
      "cell_type": "code",
      "source": [
        "postres.remove('torta')\n",
        "print(postres)"
      ],
      "metadata": {
        "colab": {
          "base_uri": "https://localhost:8080/"
        },
        "id": "zij7aym-z5jm",
        "outputId": "ff3df8ed-62f4-4c96-e3e3-ff264b7fcc23"
      },
      "execution_count": null,
      "outputs": [
        {
          "output_type": "stream",
          "name": "stdout",
          "text": [
            "['helado', 'panqueque', 'budín']\n"
          ]
        }
      ]
    },
    {
      "cell_type": "code",
      "source": [
        "examen_alumno = [\"Mario Bros\", 20, True, \"Grupo B\"]\n",
        "print(examen_alumno)"
      ],
      "metadata": {
        "colab": {
          "base_uri": "https://localhost:8080/"
        },
        "id": "WtLmefmizFes",
        "outputId": "0b57d15c-4147-4ca1-c209-e2e757c762fd"
      },
      "execution_count": null,
      "outputs": [
        {
          "output_type": "stream",
          "name": "stdout",
          "text": [
            "['Mario Bros', 20, True, 'Grupo B']\n"
          ]
        }
      ]
    },
    {
      "cell_type": "code",
      "source": [
        "ciudades = ('Amsterdam','Londres','Rio de Janeiro')\n",
        "print(ciudades)"
      ],
      "metadata": {
        "colab": {
          "base_uri": "https://localhost:8080/"
        },
        "id": "FoIfuAwOzb2K",
        "outputId": "a2de46ea-2ab0-46b7-f4a6-43e6749fc120"
      },
      "execution_count": null,
      "outputs": [
        {
          "output_type": "stream",
          "name": "stdout",
          "text": [
            "('Amsterdam', 'Londres', 'Rio de Janeiro')\n"
          ]
        }
      ]
    },
    {
      "cell_type": "code",
      "source": [
        ""
      ],
      "metadata": {
        "id": "IPoQgofF0UCr"
      },
      "execution_count": null,
      "outputs": []
    }
  ]
}