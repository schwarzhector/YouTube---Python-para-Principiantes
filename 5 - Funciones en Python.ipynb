{
  "nbformat": 4,
  "nbformat_minor": 0,
  "metadata": {
    "colab": {
      "name": "Aprendiendo Python - 5taParte Funciones.ipynb",
      "provenance": []
    },
    "kernelspec": {
      "name": "python3",
      "display_name": "Python 3"
    },
    "language_info": {
      "name": "python"
    }
  },
  "cells": [
    {
      "cell_type": "markdown",
      "source": [
        "Código utilizado en el video:<br>\n",
        "https://youtu.be/MJdxqES0ieg"
      ],
      "metadata": {
        "id": "3Vn7x9RETOA3"
      }
    },
    {
      "cell_type": "markdown",
      "source": [
        "#Funciones"
      ],
      "metadata": {
        "id": "pw2ij5cjGnGt"
      }
    },
    {
      "cell_type": "code",
      "source": [
        "def primer_funcion():\n",
        "  print(\"Esta es mi primer función!!!\")\n",
        "\n",
        "primer_funcion()"
      ],
      "metadata": {
        "colab": {
          "base_uri": "https://localhost:8080/"
        },
        "id": "4m2cd_LFGltW",
        "outputId": "14f909d0-035e-4354-e58f-5bb503db4f22"
      },
      "execution_count": null,
      "outputs": [
        {
          "output_type": "stream",
          "name": "stdout",
          "text": [
            "Esta es mi primer función!!!\n"
          ]
        }
      ]
    },
    {
      "cell_type": "code",
      "source": [
        "def segunda_funcion():\n",
        "  texto = \"Esta es mi segunda función!!!\"\n",
        "  return texto\n",
        "\n",
        "print(segunda_funcion())"
      ],
      "metadata": {
        "colab": {
          "base_uri": "https://localhost:8080/"
        },
        "id": "hbSIpIVjhUQB",
        "outputId": "1f828fea-89f3-4b9f-e9e6-775c80cab987"
      },
      "execution_count": null,
      "outputs": [
        {
          "output_type": "stream",
          "name": "stdout",
          "text": [
            "Esta es mi segunda función!!!\n"
          ]
        }
      ]
    },
    {
      "cell_type": "markdown",
      "source": [
        "### Argumentos"
      ],
      "metadata": {
        "id": "Fx5zK89KJGY2"
      }
    },
    {
      "cell_type": "code",
      "source": [
        "def multiplicar(variable1, variable2):\n",
        "  resultado = variable1 * variable2\n",
        "  print(\"El resultado de la multiplicación es: \"+str(resultado))\n",
        "\n",
        "multiplicar(5,8)\n",
        "multiplicar(3,4)"
      ],
      "metadata": {
        "colab": {
          "base_uri": "https://localhost:8080/"
        },
        "id": "kGfRKOUsJIqu",
        "outputId": "543d099b-1a30-4c5f-a01f-8e982f21e5ac"
      },
      "execution_count": null,
      "outputs": [
        {
          "output_type": "stream",
          "name": "stdout",
          "text": [
            "El resultado de la multiplicación es: 40\n",
            "El resultado de la multiplicación es: 12\n"
          ]
        }
      ]
    },
    {
      "cell_type": "markdown",
      "source": [
        "### Argumentos arbitrarios *args"
      ],
      "metadata": {
        "id": "rpaKNYE7KWYe"
      }
    },
    {
      "cell_type": "code",
      "source": [
        "def sumar(*variables):\n",
        "  resultado = 0\n",
        "  for valor in variables:\n",
        "    resultado = valor + resultado\n",
        "  print(\"El resultado de la suma de todas las variables es: \"+str(resultado))\n",
        "\n",
        "sumar(1,2,3)\n",
        "sumar(4,5,6,7)\n",
        "sumar(8,9)"
      ],
      "metadata": {
        "colab": {
          "base_uri": "https://localhost:8080/"
        },
        "id": "uYqpUK1-KVfO",
        "outputId": "1f39206b-d8d6-4838-8fe5-3a33cdad38ad"
      },
      "execution_count": null,
      "outputs": [
        {
          "output_type": "stream",
          "name": "stdout",
          "text": [
            "El resultado de la suma de todas las variables es: 6\n",
            "El resultado de la suma de todas las variables es: 22\n",
            "El resultado de la suma de todas las variables es: 17\n"
          ]
        }
      ]
    },
    {
      "cell_type": "markdown",
      "source": [
        "### Argumentos arbitrarios de Palabras Claves **kwargs"
      ],
      "metadata": {
        "id": "mQBOtQroLlDg"
      }
    },
    {
      "cell_type": "code",
      "source": [
        "def mostrar_datos(**colaboradores):\n",
        "  print(\" \")\n",
        "  for llave, valor in colaboradores.items():\n",
        "        print(\"{} : {}\".format(llave,valor))\n",
        "\n",
        "colaborador1 = {\"Nombre\": \"Javier\", \"Zona a cargo\": \"Este\", \n",
        "                \"Cantidad de Ventas\": 132456, \"Puesto\":\"Encargado de Ventas\"}\n",
        "colaborador2 = {\"Nombre\": \"Lisa\", \"Zona a cargo\": \"Norte\",\n",
        "                \"Edad\":20, \"E-mail\":\"asdf@correo.com\",\n",
        "                \"Puesto\":\"Encargada de Ventas\"}\n",
        "colaborador3 = {\"Nombre\": \"Susana\", \"Pais\":\"Brasil\",\n",
        "                \"Estado civil\":\"Casada\", \"Puesto\":\"Gerente General\",\n",
        "                }\n",
        "mostrar_datos(**colaborador1)\n",
        "mostrar_datos(**colaborador2)\n",
        "mostrar_datos(**colaborador3)"
      ],
      "metadata": {
        "colab": {
          "base_uri": "https://localhost:8080/"
        },
        "id": "ve5rEFmKMIbP",
        "outputId": "1994b81c-192a-45bf-9292-33adff97187f"
      },
      "execution_count": null,
      "outputs": [
        {
          "output_type": "stream",
          "name": "stdout",
          "text": [
            " \n",
            "Nombre : Javier\n",
            "Zona a cargo : Este\n",
            "Cantidad de Ventas : 132456\n",
            "Puesto : Encargado de Ventas\n",
            " \n",
            "Nombre : Lisa\n",
            "Zona a cargo : Norte\n",
            "Edad : 20\n",
            "E-mail : asdf@correo.com\n",
            "Puesto : Encargada de Ventas\n",
            " \n",
            "Nombre : Susana\n",
            "Pais : Brasil\n",
            "Estado civil : Casada\n",
            "Puesto : Gerente General\n"
          ]
        }
      ]
    },
    {
      "cell_type": "markdown",
      "source": [
        "### Parámetros por Defecto"
      ],
      "metadata": {
        "id": "RDe79YEwR8-6"
      }
    },
    {
      "cell_type": "code",
      "source": [
        "def pais_origen(pais = \"Brasil\"):\n",
        "  print(\"El producto proviene de \" + pais)\n",
        "\n",
        "pais_origen(\"China\")\n",
        "pais_origen()\n",
        "pais_origen(\"Japón\")\n",
        "pais_origen(\"Estados Unidos\")\n",
        "pais_origen()"
      ],
      "metadata": {
        "colab": {
          "base_uri": "https://localhost:8080/"
        },
        "id": "U-F3cbWEPlxw",
        "outputId": "d3cc556e-b526-4c30-d628-3411a2424c26"
      },
      "execution_count": null,
      "outputs": [
        {
          "output_type": "stream",
          "name": "stdout",
          "text": [
            "El producto proviene de China\n",
            "El producto proviene de Brasil\n",
            "El producto proviene de Japón\n",
            "El producto proviene de Estados Unidos\n",
            "El producto proviene de Brasil\n"
          ]
        }
      ]
    },
    {
      "cell_type": "markdown",
      "source": [
        "### Return"
      ],
      "metadata": {
        "id": "8ZnVFcwPSbWy"
      }
    },
    {
      "cell_type": "code",
      "source": [
        "def multiplicar_por_diez(valor):\n",
        "  return 10 * valor\n",
        "\n",
        "print(multiplicar_por_diez(5))\n",
        "print(multiplicar_por_diez(10))\n",
        "print(multiplicar_por_diez(3))"
      ],
      "metadata": {
        "colab": {
          "base_uri": "https://localhost:8080/"
        },
        "id": "gG83_pmNSe4w",
        "outputId": "6d8186de-6c62-490c-f918-7eccb5819700"
      },
      "execution_count": null,
      "outputs": [
        {
          "output_type": "stream",
          "name": "stdout",
          "text": [
            "50\n",
            "100\n",
            "30\n"
          ]
        }
      ]
    },
    {
      "cell_type": "code",
      "source": [
        "def pares_vs_impares(valores):\n",
        "  pares = [valor for valor in valores if valor % 2 ==0]\n",
        "  impares = [valor for valor in valores if valor % 2 !=0]\n",
        "  texto=\"Valores pares: \"+str(pares)+\"\\nValores impares: \"+str(impares)\n",
        "  return texto\n",
        "\n",
        "valores = [13,14,25,8,4,11,38,1,3,17,21,6,5,18]\n",
        "print(pares_vs_impares(valores))"
      ],
      "metadata": {
        "colab": {
          "base_uri": "https://localhost:8080/"
        },
        "id": "Fdb-hPmGUnIa",
        "outputId": "b0243937-9a7e-4a09-85e6-c32b893777a9"
      },
      "execution_count": null,
      "outputs": [
        {
          "output_type": "stream",
          "name": "stdout",
          "text": [
            "Valores pares: [14, 8, 4, 38, 6, 18]\n",
            "Valores impares: [13, 25, 11, 1, 3, 17, 21, 5]\n"
          ]
        }
      ]
    }
  ]
}